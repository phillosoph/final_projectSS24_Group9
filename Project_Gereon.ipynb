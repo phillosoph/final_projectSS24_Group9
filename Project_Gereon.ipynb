{
 "cells": [
  {
   "cell_type": "markdown",
   "id": "bd82bde7",
   "metadata": {},
   "source": [
    "## N14: sozioökonomische Merkmale gegen Kaufpreis regressieren"
   ]
  },
  {
   "cell_type": "code",
   "execution_count": 52,
   "id": "85692bd5",
   "metadata": {},
   "outputs": [
    {
     "data": {
      "text/html": [
       "<div>\n",
       "<style scoped>\n",
       "    .dataframe tbody tr th:only-of-type {\n",
       "        vertical-align: middle;\n",
       "    }\n",
       "\n",
       "    .dataframe tbody tr th {\n",
       "        vertical-align: top;\n",
       "    }\n",
       "\n",
       "    .dataframe thead th {\n",
       "        text-align: right;\n",
       "    }\n",
       "</style>\n",
       "<table border=\"1\" class=\"dataframe\">\n",
       "  <thead>\n",
       "    <tr style=\"text-align: right;\">\n",
       "      <th></th>\n",
       "      <th>Alter</th>\n",
       "      <th>Einkommen</th>\n",
       "      <th>Preis</th>\n",
       "      <th>Geschlecht</th>\n",
       "      <th>Zeit</th>\n",
       "      <th>KundeNr</th>\n",
       "      <th>Niederlassung</th>\n",
       "    </tr>\n",
       "  </thead>\n",
       "  <tbody>\n",
       "    <tr>\n",
       "      <th>0</th>\n",
       "      <td>64</td>\n",
       "      <td>66894.0</td>\n",
       "      <td>88160.31</td>\n",
       "      <td>1.0</td>\n",
       "      <td>43.0</td>\n",
       "      <td>K0310</td>\n",
       "      <td>Bayern</td>\n",
       "    </tr>\n",
       "    <tr>\n",
       "      <th>1</th>\n",
       "      <td>54</td>\n",
       "      <td>77644.0</td>\n",
       "      <td>103145.70</td>\n",
       "      <td>1.0</td>\n",
       "      <td>40.0</td>\n",
       "      <td>K1042</td>\n",
       "      <td>Berlin</td>\n",
       "    </tr>\n",
       "    <tr>\n",
       "      <th>2</th>\n",
       "      <td>55</td>\n",
       "      <td>44341.0</td>\n",
       "      <td>80565.16</td>\n",
       "      <td>0.0</td>\n",
       "      <td>37.0</td>\n",
       "      <td>K0382</td>\n",
       "      <td>Baden-Württemberg</td>\n",
       "    </tr>\n",
       "    <tr>\n",
       "      <th>3</th>\n",
       "      <td>49</td>\n",
       "      <td>67271.0</td>\n",
       "      <td>83949.89</td>\n",
       "      <td>0.0</td>\n",
       "      <td>42.0</td>\n",
       "      <td>K0498</td>\n",
       "      <td>Bayern</td>\n",
       "    </tr>\n",
       "    <tr>\n",
       "      <th>4</th>\n",
       "      <td>46</td>\n",
       "      <td>49832.0</td>\n",
       "      <td>93781.58</td>\n",
       "      <td>0.0</td>\n",
       "      <td>41.0</td>\n",
       "      <td>K0552</td>\n",
       "      <td>Hessen</td>\n",
       "    </tr>\n",
       "  </tbody>\n",
       "</table>\n",
       "</div>"
      ],
      "text/plain": [
       "   Alter  Einkommen      Preis  Geschlecht  Zeit KundeNr      Niederlassung\n",
       "0     64    66894.0   88160.31         1.0  43.0   K0310             Bayern\n",
       "1     54    77644.0  103145.70         1.0  40.0   K1042             Berlin\n",
       "2     55    44341.0   80565.16         0.0  37.0   K0382  Baden-Württemberg\n",
       "3     49    67271.0   83949.89         0.0  42.0   K0498             Bayern\n",
       "4     46    49832.0   93781.58         0.0  41.0   K0552             Hessen"
      ]
     },
     "execution_count": 52,
     "metadata": {},
     "output_type": "execute_result"
    }
   ],
   "source": [
    "df_final.head()"
   ]
  },
  {
   "cell_type": "code",
   "execution_count": 53,
   "id": "6e1cce5f",
   "metadata": {},
   "outputs": [],
   "source": [
    "# Einen gefilterten Dataframe erstellen, der nur die Kundendaten enthält \n",
    "df_clean = df_final[df_final.index <= 1103] # Alles über dem Index 1103 sind Besucherdaten"
   ]
  },
  {
   "cell_type": "code",
   "execution_count": 54,
   "id": "56202386",
   "metadata": {},
   "outputs": [
    {
     "data": {
      "text/html": [
       "<div>\n",
       "<style scoped>\n",
       "    .dataframe tbody tr th:only-of-type {\n",
       "        vertical-align: middle;\n",
       "    }\n",
       "\n",
       "    .dataframe tbody tr th {\n",
       "        vertical-align: top;\n",
       "    }\n",
       "\n",
       "    .dataframe thead th {\n",
       "        text-align: right;\n",
       "    }\n",
       "</style>\n",
       "<table border=\"1\" class=\"dataframe\">\n",
       "  <thead>\n",
       "    <tr style=\"text-align: right;\">\n",
       "      <th></th>\n",
       "      <th>Alter</th>\n",
       "      <th>Einkommen</th>\n",
       "      <th>Preis</th>\n",
       "      <th>Geschlecht</th>\n",
       "      <th>Zeit</th>\n",
       "      <th>KundeNr</th>\n",
       "      <th>Niederlassung</th>\n",
       "    </tr>\n",
       "  </thead>\n",
       "  <tbody>\n",
       "    <tr>\n",
       "      <th>0</th>\n",
       "      <td>64</td>\n",
       "      <td>66894.0</td>\n",
       "      <td>88160.31</td>\n",
       "      <td>1.0</td>\n",
       "      <td>43.0</td>\n",
       "      <td>K0310</td>\n",
       "      <td>Bayern</td>\n",
       "    </tr>\n",
       "    <tr>\n",
       "      <th>1</th>\n",
       "      <td>54</td>\n",
       "      <td>77644.0</td>\n",
       "      <td>103145.70</td>\n",
       "      <td>1.0</td>\n",
       "      <td>40.0</td>\n",
       "      <td>K1042</td>\n",
       "      <td>Berlin</td>\n",
       "    </tr>\n",
       "    <tr>\n",
       "      <th>2</th>\n",
       "      <td>55</td>\n",
       "      <td>44341.0</td>\n",
       "      <td>80565.16</td>\n",
       "      <td>0.0</td>\n",
       "      <td>37.0</td>\n",
       "      <td>K0382</td>\n",
       "      <td>Baden-Württemberg</td>\n",
       "    </tr>\n",
       "    <tr>\n",
       "      <th>3</th>\n",
       "      <td>49</td>\n",
       "      <td>67271.0</td>\n",
       "      <td>83949.89</td>\n",
       "      <td>0.0</td>\n",
       "      <td>42.0</td>\n",
       "      <td>K0498</td>\n",
       "      <td>Bayern</td>\n",
       "    </tr>\n",
       "    <tr>\n",
       "      <th>4</th>\n",
       "      <td>46</td>\n",
       "      <td>49832.0</td>\n",
       "      <td>93781.58</td>\n",
       "      <td>0.0</td>\n",
       "      <td>41.0</td>\n",
       "      <td>K0552</td>\n",
       "      <td>Hessen</td>\n",
       "    </tr>\n",
       "  </tbody>\n",
       "</table>\n",
       "</div>"
      ],
      "text/plain": [
       "   Alter  Einkommen      Preis  Geschlecht  Zeit KundeNr      Niederlassung\n",
       "0     64    66894.0   88160.31         1.0  43.0   K0310             Bayern\n",
       "1     54    77644.0  103145.70         1.0  40.0   K1042             Berlin\n",
       "2     55    44341.0   80565.16         0.0  37.0   K0382  Baden-Württemberg\n",
       "3     49    67271.0   83949.89         0.0  42.0   K0498             Bayern\n",
       "4     46    49832.0   93781.58         0.0  41.0   K0552             Hessen"
      ]
     },
     "execution_count": 54,
     "metadata": {},
     "output_type": "execute_result"
    }
   ],
   "source": [
    "df_clean.head()"
   ]
  },
  {
   "cell_type": "code",
   "execution_count": 55,
   "id": "287132ca",
   "metadata": {},
   "outputs": [
    {
     "data": {
      "text/plain": [
       "Alter            0.0\n",
       "Einkommen        0.0\n",
       "Preis            0.0\n",
       "Geschlecht       0.0\n",
       "Zeit             0.0\n",
       "KundeNr          0.0\n",
       "Niederlassung    0.0\n",
       "dtype: float64"
      ]
     },
     "execution_count": 55,
     "metadata": {},
     "output_type": "execute_result"
    }
   ],
   "source": [
    "# Noch einmal prüfen, ob keine NaNs vorhanden sind (Wichtig bei Regression)\n",
    "df_clean.isna().mean()"
   ]
  },
  {
   "cell_type": "code",
   "execution_count": 56,
   "id": "8661aa4b",
   "metadata": {},
   "outputs": [
    {
     "name": "stdout",
     "output_type": "stream",
     "text": [
      "                            OLS Regression Results                            \n",
      "==============================================================================\n",
      "Dep. Variable:                  Preis   R-squared:                       0.811\n",
      "Model:                            OLS   Adj. R-squared:                  0.811\n",
      "Method:                 Least Squares   F-statistic:                     1576.\n",
      "Date:                Wed, 26 Jun 2024   Prob (F-statistic):               0.00\n",
      "Time:                        22:56:14   Log-Likelihood:                -11797.\n",
      "No. Observations:                1104   AIC:                         2.360e+04\n",
      "Df Residuals:                    1100   BIC:                         2.362e+04\n",
      "Df Model:                           3                                         \n",
      "Covariance Type:            nonrobust                                         \n",
      "==============================================================================\n",
      "                 coef    std err          t      P>|t|      [0.025      0.975]\n",
      "------------------------------------------------------------------------------\n",
      "const       1341.3476   1451.582      0.924      0.356   -1506.835    4189.530\n",
      "Alter        547.9357     40.519     13.523      0.000     468.433     627.438\n",
      "Einkommen      0.9955      0.029     34.118      0.000       0.938       1.053\n",
      "Geschlecht  2167.8236    664.619      3.262      0.001     863.760    3471.887\n",
      "==============================================================================\n",
      "Omnibus:                      119.637   Durbin-Watson:                   2.083\n",
      "Prob(Omnibus):                  0.000   Jarque-Bera (JB):              694.440\n",
      "Skew:                           0.298   Prob(JB):                    1.60e-151\n",
      "Kurtosis:                       6.840   Cond. No.                     2.81e+05\n",
      "==============================================================================\n",
      "\n",
      "Notes:\n",
      "[1] Standard Errors assume that the covariance matrix of the errors is correctly specified.\n",
      "[2] The condition number is large, 2.81e+05. This might indicate that there are\n",
      "strong multicollinearity or other numerical problems.\n"
     ]
    }
   ],
   "source": [
    "# Abhängige und unabhängige Variablen definieren\n",
    "y = df_clean[\"Preis\"]\n",
    "X = df_clean[[\"Alter\", \"Einkommen\", \"Geschlecht\"]]\n",
    "\n",
    "# Hinzufügen konstanter Term\n",
    "X = sm.add_constant(X)\n",
    "\n",
    "# Erstellen und Anpassen des Modells\n",
    "reg_res = sm.OLS(y, X).fit()\n",
    "\n",
    "# Anzeigen der Zusammenfassung des Modells\n",
    "print(reg_res.summary())"
   ]
  },
  {
   "cell_type": "code",
   "execution_count": 57,
   "id": "7d031e17",
   "metadata": {},
   "outputs": [
    {
     "name": "stdout",
     "output_type": "stream",
     "text": [
      "Der Achsenabschnitt beträgt: 1341.35\n"
     ]
    }
   ],
   "source": [
    "alpha = reg_res.params[\"const\"]\n",
    "print(\"Der Achsenabschnitt beträgt: \" + str(round(alpha, 2)))"
   ]
  },
  {
   "cell_type": "code",
   "execution_count": 58,
   "id": "36c353fb",
   "metadata": {},
   "outputs": [
    {
     "name": "stdout",
     "output_type": "stream",
     "text": [
      "Eine Erhöhung des Alters um ein Jahr führt zu einer Zunahme des Kaufpreises um: 547.94\n"
     ]
    }
   ],
   "source": [
    "beta1 = reg_res.params[\"Alter\"]\n",
    "print(\"Eine Erhöhung des Alters um ein Jahr führt zu einer Zunahme des Kaufpreises um: \" + str(round(beta1, 2)))"
   ]
  },
  {
   "cell_type": "code",
   "execution_count": 59,
   "id": "38132946",
   "metadata": {},
   "outputs": [
    {
     "name": "stdout",
     "output_type": "stream",
     "text": [
      "Eine Erhöhung des Einkommens um einen Euro führt zu einer Zunahme des Kaufpreises um: 1.0\n"
     ]
    }
   ],
   "source": [
    "beta2 = reg_res.params[\"Einkommen\"]\n",
    "print(\"Eine Erhöhung des Einkommens um einen Euro führt zu einer Zunahme des Kaufpreises um: \" + str(round(beta2, 2)))"
   ]
  },
  {
   "cell_type": "code",
   "execution_count": 60,
   "id": "e116d202",
   "metadata": {},
   "outputs": [
    {
     "name": "stdout",
     "output_type": "stream",
     "text": [
      "Die Variablen Alter und Einkommen erklären 81.0% der Variabilität beim Preis\n"
     ]
    }
   ],
   "source": [
    "r_squared = reg_res.rsquared\n",
    "print(\"Die Variablen Alter und Einkommen erklären \" + str(round(r_squared, 2)*100) + \"% der Variabilität beim Preis\")"
   ]
  },
  {
   "cell_type": "markdown",
   "id": "23b83e33",
   "metadata": {},
   "source": [
    "Signifikante Prädiktoren: Alle unabhängigen Variablen (Alter, Einkommen) sind signifikante Prädiktoren für den Kaufpreis (p-Werte < 0.05)."
   ]
  },
  {
   "cell_type": "markdown",
   "id": "1f7c9b8a",
   "metadata": {},
   "source": [
    "## N15: Kaufpreisprognose"
   ]
  },
  {
   "cell_type": "markdown",
   "id": "b86e05e7",
   "metadata": {},
   "source": [
    "Preis = a + ß1 * Alter + ß2 * Einkommen"
   ]
  },
  {
   "cell_type": "code",
   "execution_count": 70,
   "id": "c53f28d1",
   "metadata": {},
   "outputs": [
    {
     "name": "stdout",
     "output_type": "stream",
     "text": [
      "                            OLS Regression Results                            \n",
      "==============================================================================\n",
      "Dep. Variable:                  Preis   R-squared:                       0.811\n",
      "Model:                            OLS   Adj. R-squared:                  0.811\n",
      "Method:                 Least Squares   F-statistic:                     1576.\n",
      "Date:                Wed, 26 Jun 2024   Prob (F-statistic):               0.00\n",
      "Time:                        22:57:19   Log-Likelihood:                -11797.\n",
      "No. Observations:                1104   AIC:                         2.360e+04\n",
      "Df Residuals:                    1100   BIC:                         2.362e+04\n",
      "Df Model:                           3                                         \n",
      "Covariance Type:            nonrobust                                         \n",
      "==============================================================================\n",
      "                 coef    std err          t      P>|t|      [0.025      0.975]\n",
      "------------------------------------------------------------------------------\n",
      "const       1341.3476   1451.582      0.924      0.356   -1506.835    4189.530\n",
      "Geschlecht  2167.8236    664.619      3.262      0.001     863.760    3471.887\n",
      "Alter        547.9357     40.519     13.523      0.000     468.433     627.438\n",
      "Einkommen      0.9955      0.029     34.118      0.000       0.938       1.053\n",
      "==============================================================================\n",
      "Omnibus:                      119.637   Durbin-Watson:                   2.083\n",
      "Prob(Omnibus):                  0.000   Jarque-Bera (JB):              694.440\n",
      "Skew:                           0.298   Prob(JB):                    1.60e-151\n",
      "Kurtosis:                       6.840   Cond. No.                     2.81e+05\n",
      "==============================================================================\n",
      "\n",
      "Notes:\n",
      "[1] Standard Errors assume that the covariance matrix of the errors is correctly specified.\n",
      "[2] The condition number is large, 2.81e+05. This might indicate that there are\n",
      "strong multicollinearity or other numerical problems.\n"
     ]
    }
   ],
   "source": [
    "# Erneut Zielvariable und Prädiktoren definieren\n",
    "y = df_clean['Preis']\n",
    "X = df_clean[['Geschlecht', 'Alter', 'Einkommen']]\n",
    "\n",
    "# Konstanten-Term hinzufügen\n",
    "X = sm.add_constant(X)\n",
    "\n",
    "# Modell erstellen und anpassen\n",
    "model = sm.OLS(y, X).fit()\n",
    "\n",
    "# Zusammenfassung des Modells anzeigen\n",
    "print(model.summary())\n"
   ]
  },
  {
   "cell_type": "code",
   "execution_count": 71,
   "id": "481df6f2",
   "metadata": {},
   "outputs": [
    {
     "name": "stdout",
     "output_type": "stream",
     "text": [
      "Prognostizierter Kaufpreis für den ersten Kunden: 50907.70 Euro\n",
      "Prognostizierter Kaufpreis für den zweiten Kunden: 85210.14 Euro\n"
     ]
    }
   ],
   "source": [
    "# Daten für die Kunden vorbereiten, dessen Kaufpreis wir prognostizieren möchten\n",
    "neuer_kunde1 = {\"const\": 1, \"ist_maennlich\": 1, \"Alter\": 32, \"Einkommen\": 30000}\n",
    "neuer_kunde2 = {\"const\": 1, \"ist_maennlich\": 1, \"Alter\": 51, \"Einkommen\": 54000}\n",
    "\n",
    "# DataFrame erstellen\n",
    "data_to_predict_kunde1 = pd.DataFrame([neuer_kunde1])\n",
    "data_to_predict_kunde2 = pd.DataFrame([neuer_kunde2])\n",
    "\n",
    "# Vorhersage machen\n",
    "predicted_price_kunde1 = model.predict(data_to_predict_kunde1)\n",
    "predicted_price_kunde2 = model.predict(data_to_predict_kunde2)\n",
    "\n",
    "print(f\"Prognostizierter Kaufpreis für den ersten Kunden: {predicted_price_kunde1[0]:.2f} Euro\")\n",
    "print(f\"Prognostizierter Kaufpreis für den zweiten Kunden: {predicted_price_kunde2[0]:.2f} Euro\")\n"
   ]
  },
  {
   "cell_type": "markdown",
   "id": "c22b2c3b",
   "metadata": {},
   "source": [
    "## N16: Welche Variable beeinflusst Preis am meisten?"
   ]
  },
  {
   "cell_type": "code",
   "execution_count": 72,
   "id": "d6d6eeb8",
   "metadata": {},
   "outputs": [
    {
     "name": "stdout",
     "output_type": "stream",
     "text": [
      "                            OLS Regression Results                            \n",
      "==============================================================================\n",
      "Dep. Variable:                  Preis   R-squared:                       0.811\n",
      "Model:                            OLS   Adj. R-squared:                  0.811\n",
      "Method:                 Least Squares   F-statistic:                     1576.\n",
      "Date:                Wed, 26 Jun 2024   Prob (F-statistic):               0.00\n",
      "Time:                        22:57:30   Log-Likelihood:                -645.62\n",
      "No. Observations:                1104   AIC:                             1299.\n",
      "Df Residuals:                    1100   BIC:                             1319.\n",
      "Df Model:                           3                                         \n",
      "Covariance Type:            nonrobust                                         \n",
      "==============================================================================\n",
      "                 coef    std err          t      P>|t|      [0.025      0.975]\n",
      "------------------------------------------------------------------------------\n",
      "const      -3.469e-17      0.013  -2.65e-15      1.000      -0.026       0.026\n",
      "Geschlecht     0.0428      0.013      3.262      0.001       0.017       0.068\n",
      "Alter          0.2689      0.020     13.523      0.000       0.230       0.308\n",
      "Einkommen      0.6787      0.020     34.118      0.000       0.640       0.718\n",
      "==============================================================================\n",
      "Omnibus:                      119.637   Durbin-Watson:                   2.083\n",
      "Prob(Omnibus):                  0.000   Jarque-Bera (JB):              694.440\n",
      "Skew:                           0.298   Prob(JB):                    1.60e-151\n",
      "Kurtosis:                       6.840   Cond. No.                         2.66\n",
      "==============================================================================\n",
      "\n",
      "Notes:\n",
      "[1] Standard Errors assume that the covariance matrix of the errors is correctly specified.\n"
     ]
    }
   ],
   "source": [
    "# Zielvariable und Prädiktoren definieren\n",
    "y = df_clean[\"Preis\"]\n",
    "X = df_clean[[\"Geschlecht\", \"Alter\", \"Einkommen\"]]\n",
    "\n",
    "# Daten standardisieren (z-Score-Werte berechnen) um Vergleichbarkeit zu schaffen\n",
    "y_standardized = (y - y.mean()) / y.std()\n",
    "X_standardized = (X - X.mean()) / X.std()\n",
    "\n",
    "# Konstante hinzufügen\n",
    "X_standardized = sm.add_constant(X_standardized)\n",
    "\n",
    "# Modell erstellen und anpassen\n",
    "model_standardized = sm.OLS(y_standardized, X_standardized).fit()\n",
    "\n",
    "# Zusammenfassung des Modells \n",
    "print(model_standardized.summary())"
   ]
  },
  {
   "cell_type": "markdown",
   "id": "83c26f09",
   "metadata": {},
   "source": [
    "Einkommen hat den größten Einfluss auf den Autopreis, mit einem Koeffizienten von 0.6787, gefolgt von Alter und Geschlecht. Das bestätigt unsere Hypothese, die wir zuvor basierend auf Korrelationskoeffizienten und Scatterplot aufgestellt haben. \n",
    "Der Einfluss von Geschlecht ist zwar statistisch signifikant, aber im Vergleich zu Alter und Einkommen relativ gering."
   ]
  },
  {
   "cell_type": "markdown",
   "id": "99d544a3",
   "metadata": {},
   "source": [
    "## N17: Wahrscheinlichkeit eines Autokaufs mit logistischer Regression"
   ]
  },
  {
   "cell_type": "code",
   "execution_count": 63,
   "id": "8fa7a4df",
   "metadata": {},
   "outputs": [
    {
     "data": {
      "text/plain": [
       "Alter            0.000000\n",
       "Einkommen        0.000000\n",
       "Preis            0.446617\n",
       "Geschlecht       0.000000\n",
       "Zeit             0.000000\n",
       "KundeNr          0.000000\n",
       "Niederlassung    0.000000\n",
       "dtype: float64"
      ]
     },
     "execution_count": 63,
     "metadata": {},
     "output_type": "execute_result"
    }
   ],
   "source": [
    "df_final.isna().mean()"
   ]
  },
  {
   "cell_type": "code",
   "execution_count": 64,
   "id": "80b6faed",
   "metadata": {},
   "outputs": [
    {
     "name": "stdout",
     "output_type": "stream",
     "text": [
      "Optimization terminated successfully.\n",
      "         Current function value: 0.580528\n",
      "         Iterations 6\n",
      "                           Logit Regression Results                           \n",
      "==============================================================================\n",
      "Dep. Variable:                   Kauf   No. Observations:                 1995\n",
      "Model:                          Logit   Df Residuals:                     1991\n",
      "Method:                           MLE   Df Model:                            3\n",
      "Date:                Wed, 26 Jun 2024   Pseudo R-squ.:                  0.1555\n",
      "Time:                        22:56:14   Log-Likelihood:                -1158.2\n",
      "converged:                       True   LL-Null:                       -1371.4\n",
      "Covariance Type:            nonrobust   LLR p-value:                 3.892e-92\n",
      "==============================================================================\n",
      "                 coef    std err          z      P>|z|      [0.025      0.975]\n",
      "------------------------------------------------------------------------------\n",
      "const         -2.3090      0.256     -9.026      0.000      -2.810      -1.808\n",
      "Alter          0.0172      0.007      2.522      0.012       0.004       0.031\n",
      "Einkommen  -4.139e-05   5.42e-06     -7.633      0.000    -5.2e-05   -3.08e-05\n",
      "Zeit           0.1026      0.006     17.573      0.000       0.091       0.114\n",
      "==============================================================================\n"
     ]
    }
   ],
   "source": [
    "# Wir weisen eine 1 zu, um die Einträge der Kunden zu erfassen, wo ein Preis vorhanden ist\n",
    "df_final[\"Kauf\"] = np.where(df_final[\"Preis\"].notna(), 1, 0)\n",
    "\n",
    "# Zielvariable \n",
    "y = df_final[\"Kauf\"]\n",
    "# Regressoren\n",
    "X = df_final[[\"Alter\", \"Einkommen\", \"Zeit\"]]\n",
    "\n",
    "X = sm.add_constant(X)\n",
    "logit_model = sm.Logit(y, X).fit()\n",
    "\n",
    "# Zusammenfassung des Modells\n",
    "print(logit_model.summary())\n"
   ]
  },
  {
   "cell_type": "markdown",
   "id": "b04d35e1",
   "metadata": {},
   "source": [
    "## N18: Wahrscheinlichkeit für Beispiele"
   ]
  },
  {
   "cell_type": "code",
   "execution_count": 65,
   "id": "f28315f0",
   "metadata": {},
   "outputs": [
    {
     "name": "stdout",
     "output_type": "stream",
     "text": [
      "Prognostizierte Wahrscheinlichkeit, dass der erste Kunde ein Modell kauft: 0.52\n",
      "Prognostizierte Wahrscheinlichkeit, dass der zweite Kunde ein Modell kauft: 0.72\n"
     ]
    }
   ],
   "source": [
    "# Daten für die neuen Kunden vorbereiten \n",
    "neuer_kunde1 = {\"Alter\": 32,\"Einkommen\": 30000,\"Zeit\": 30}\n",
    "neuer_kunde2 = {\"Alter\": 51,\"Einkommen\": 54000,\"Zeit\": 45}\n",
    "\n",
    "# DataFrame erstellen für die Vorhersage\n",
    "X_predict_kunde1 = pd.DataFrame([neuer_kunde1])\n",
    "X_predict_kunde2 = pd.DataFrame([neuer_kunde2])\n",
    "\n",
    "# Hinzufügen des konstanten Terms\n",
    "X_predict_kunde1 = sm.add_constant(X_predict_kunde1, has_constant=\"add\")\n",
    "X_predict_kunde2 = sm.add_constant(X_predict_kunde2, has_constant=\"add\")\n",
    "\n",
    "# Vorhersage der Wahrscheinlichkeiten\n",
    "predicted_probability_kunde1 = logit_model.predict(X_predict_kunde1)\n",
    "predicted_probability_kunde2 = logit_model.predict(X_predict_kunde2)\n",
    "\n",
    "print(f\"Prognostizierte Wahrscheinlichkeit, dass der erste Kunde ein Modell kauft: {predicted_probability_kunde1[0]:.2f}\")\n",
    "print(f\"Prognostizierte Wahrscheinlichkeit, dass der zweite Kunde ein Modell kauft: {predicted_probability_kunde2[0]:.2f}\")"
   ]
  },
  {
   "cell_type": "code",
   "execution_count": null,
   "id": "c046de95",
   "metadata": {},
   "outputs": [],
   "source": []
  },
  {
   "cell_type": "markdown",
   "id": "89af1b02",
   "metadata": {},
   "source": [
    "## N19: Probleme bei Datenzusammenführung: Operationen zum Zusammenführen und Bereinigen vorstellen"
   ]
  },
  {
   "cell_type": "markdown",
   "id": "b9e655f9",
   "metadata": {},
   "source": [
    "## Datenbereinigung Besucherdatei"
   ]
  },
  {
   "cell_type": "code",
   "execution_count": 4,
   "id": "e2b7597c",
   "metadata": {
    "scrolled": true
   },
   "outputs": [
    {
     "data": {
      "text/html": [
       "<div>\n",
       "<style scoped>\n",
       "    .dataframe tbody tr th:only-of-type {\n",
       "        vertical-align: middle;\n",
       "    }\n",
       "\n",
       "    .dataframe tbody tr th {\n",
       "        vertical-align: top;\n",
       "    }\n",
       "\n",
       "    .dataframe thead th {\n",
       "        text-align: right;\n",
       "    }\n",
       "</style>\n",
       "<table border=\"1\" class=\"dataframe\">\n",
       "  <thead>\n",
       "    <tr style=\"text-align: right;\">\n",
       "      <th></th>\n",
       "      <th>Alter</th>\n",
       "      <th>Einkommen</th>\n",
       "      <th>Geschlecht</th>\n",
       "      <th>Zeit</th>\n",
       "      <th>KundeNr</th>\n",
       "    </tr>\n",
       "  </thead>\n",
       "  <tbody>\n",
       "    <tr>\n",
       "      <th>0</th>\n",
       "      <td>30</td>\n",
       "      <td>39919,0953348874</td>\n",
       "      <td>0</td>\n",
       "      <td>29,0</td>\n",
       "      <td>K1814</td>\n",
       "    </tr>\n",
       "    <tr>\n",
       "      <th>1</th>\n",
       "      <td>41</td>\n",
       "      <td>53430,67308587748</td>\n",
       "      <td>0</td>\n",
       "      <td>27,0</td>\n",
       "      <td>K1544</td>\n",
       "    </tr>\n",
       "    <tr>\n",
       "      <th>2</th>\n",
       "      <td>64</td>\n",
       "      <td>73163,2169267002</td>\n",
       "      <td>0</td>\n",
       "      <td>32,0</td>\n",
       "      <td>K1945</td>\n",
       "    </tr>\n",
       "    <tr>\n",
       "      <th>3</th>\n",
       "      <td>41</td>\n",
       "      <td>36761,482581315344</td>\n",
       "      <td>0</td>\n",
       "      <td>44,0</td>\n",
       "      <td>K1825</td>\n",
       "    </tr>\n",
       "    <tr>\n",
       "      <th>4</th>\n",
       "      <td>35</td>\n",
       "      <td>42684,33163178136</td>\n",
       "      <td>1</td>\n",
       "      <td>33,0</td>\n",
       "      <td>K1144</td>\n",
       "    </tr>\n",
       "  </tbody>\n",
       "</table>\n",
       "</div>"
      ],
      "text/plain": [
       "   Alter           Einkommen  Geschlecht  Zeit KundeNr\n",
       "0     30    39919,0953348874           0  29,0   K1814\n",
       "1     41   53430,67308587748           0  27,0   K1544\n",
       "2     64    73163,2169267002           0  32,0   K1945\n",
       "3     41  36761,482581315344           0  44,0   K1825\n",
       "4     35   42684,33163178136           1  33,0   K1144"
      ]
     },
     "execution_count": 4,
     "metadata": {},
     "output_type": "execute_result"
    }
   ],
   "source": [
    "df_besucher.head()"
   ]
  },
  {
   "cell_type": "code",
   "execution_count": 5,
   "id": "6bd3d2b3",
   "metadata": {},
   "outputs": [
    {
     "data": {
      "text/plain": [
       "Alter          int64\n",
       "Einkommen     object\n",
       "Geschlecht     int64\n",
       "Zeit          object\n",
       "KundeNr       object\n",
       "dtype: object"
      ]
     },
     "execution_count": 5,
     "metadata": {},
     "output_type": "execute_result"
    }
   ],
   "source": [
    "df_besucher.dtypes"
   ]
  },
  {
   "cell_type": "code",
   "execution_count": 6,
   "id": "9aa1d887",
   "metadata": {},
   "outputs": [
    {
     "data": {
      "text/html": [
       "<div>\n",
       "<style scoped>\n",
       "    .dataframe tbody tr th:only-of-type {\n",
       "        vertical-align: middle;\n",
       "    }\n",
       "\n",
       "    .dataframe tbody tr th {\n",
       "        vertical-align: top;\n",
       "    }\n",
       "\n",
       "    .dataframe thead th {\n",
       "        text-align: right;\n",
       "    }\n",
       "</style>\n",
       "<table border=\"1\" class=\"dataframe\">\n",
       "  <thead>\n",
       "    <tr style=\"text-align: right;\">\n",
       "      <th></th>\n",
       "      <th>Alter</th>\n",
       "      <th>Geschlecht</th>\n",
       "    </tr>\n",
       "  </thead>\n",
       "  <tbody>\n",
       "    <tr>\n",
       "      <th>count</th>\n",
       "      <td>891.000000</td>\n",
       "      <td>891.000000</td>\n",
       "    </tr>\n",
       "    <tr>\n",
       "      <th>mean</th>\n",
       "      <td>49.881033</td>\n",
       "      <td>0.578002</td>\n",
       "    </tr>\n",
       "    <tr>\n",
       "      <th>std</th>\n",
       "      <td>11.865889</td>\n",
       "      <td>0.494156</td>\n",
       "    </tr>\n",
       "    <tr>\n",
       "      <th>min</th>\n",
       "      <td>30.000000</td>\n",
       "      <td>0.000000</td>\n",
       "    </tr>\n",
       "    <tr>\n",
       "      <th>25%</th>\n",
       "      <td>40.000000</td>\n",
       "      <td>0.000000</td>\n",
       "    </tr>\n",
       "    <tr>\n",
       "      <th>50%</th>\n",
       "      <td>49.000000</td>\n",
       "      <td>1.000000</td>\n",
       "    </tr>\n",
       "    <tr>\n",
       "      <th>75%</th>\n",
       "      <td>60.000000</td>\n",
       "      <td>1.000000</td>\n",
       "    </tr>\n",
       "    <tr>\n",
       "      <th>max</th>\n",
       "      <td>70.000000</td>\n",
       "      <td>1.000000</td>\n",
       "    </tr>\n",
       "  </tbody>\n",
       "</table>\n",
       "</div>"
      ],
      "text/plain": [
       "            Alter  Geschlecht\n",
       "count  891.000000  891.000000\n",
       "mean    49.881033    0.578002\n",
       "std     11.865889    0.494156\n",
       "min     30.000000    0.000000\n",
       "25%     40.000000    0.000000\n",
       "50%     49.000000    1.000000\n",
       "75%     60.000000    1.000000\n",
       "max     70.000000    1.000000"
      ]
     },
     "execution_count": 6,
     "metadata": {},
     "output_type": "execute_result"
    }
   ],
   "source": [
    "# Geringer Abstand zwischen Mean und Median (50%) deutet darauf hin, dass es wahrscheinlich nicht viele signifikante Ausreißer gibt \n",
    "df_besucher.describe()"
   ]
  },
  {
   "cell_type": "code",
   "execution_count": 7,
   "id": "06ab4e29",
   "metadata": {},
   "outputs": [],
   "source": [
    "# Erkanntes Problem: Die Zahlen in der Besucherdatei werden von einem Komma und nicht einem Punkt getrennt \n",
    "# Außerdem liegen die Spalten Zeit und Einkommen im String-Format vor\n",
    "# mit replace führen wir den Austausch von , zu . durch und speichern dann als float \n",
    "\n",
    "df_besucher['Zeit'] = df_besucher['Zeit'].str.replace(',', '.').astype(float)\n",
    "df_besucher['Einkommen'] = df_besucher['Einkommen'].str.replace(',', '.').astype(float)\n"
   ]
  },
  {
   "cell_type": "code",
   "execution_count": 8,
   "id": "881db023",
   "metadata": {
    "scrolled": true
   },
   "outputs": [
    {
     "data": {
      "text/html": [
       "<div>\n",
       "<style scoped>\n",
       "    .dataframe tbody tr th:only-of-type {\n",
       "        vertical-align: middle;\n",
       "    }\n",
       "\n",
       "    .dataframe tbody tr th {\n",
       "        vertical-align: top;\n",
       "    }\n",
       "\n",
       "    .dataframe thead th {\n",
       "        text-align: right;\n",
       "    }\n",
       "</style>\n",
       "<table border=\"1\" class=\"dataframe\">\n",
       "  <thead>\n",
       "    <tr style=\"text-align: right;\">\n",
       "      <th></th>\n",
       "      <th>Alter</th>\n",
       "      <th>Einkommen</th>\n",
       "      <th>Geschlecht</th>\n",
       "      <th>Zeit</th>\n",
       "      <th>KundeNr</th>\n",
       "    </tr>\n",
       "  </thead>\n",
       "  <tbody>\n",
       "    <tr>\n",
       "      <th>0</th>\n",
       "      <td>30</td>\n",
       "      <td>39919.095335</td>\n",
       "      <td>0</td>\n",
       "      <td>29.0</td>\n",
       "      <td>K1814</td>\n",
       "    </tr>\n",
       "    <tr>\n",
       "      <th>1</th>\n",
       "      <td>41</td>\n",
       "      <td>53430.673086</td>\n",
       "      <td>0</td>\n",
       "      <td>27.0</td>\n",
       "      <td>K1544</td>\n",
       "    </tr>\n",
       "    <tr>\n",
       "      <th>2</th>\n",
       "      <td>64</td>\n",
       "      <td>73163.216927</td>\n",
       "      <td>0</td>\n",
       "      <td>32.0</td>\n",
       "      <td>K1945</td>\n",
       "    </tr>\n",
       "    <tr>\n",
       "      <th>3</th>\n",
       "      <td>41</td>\n",
       "      <td>36761.482581</td>\n",
       "      <td>0</td>\n",
       "      <td>44.0</td>\n",
       "      <td>K1825</td>\n",
       "    </tr>\n",
       "    <tr>\n",
       "      <th>4</th>\n",
       "      <td>35</td>\n",
       "      <td>42684.331632</td>\n",
       "      <td>1</td>\n",
       "      <td>33.0</td>\n",
       "      <td>K1144</td>\n",
       "    </tr>\n",
       "  </tbody>\n",
       "</table>\n",
       "</div>"
      ],
      "text/plain": [
       "   Alter     Einkommen  Geschlecht  Zeit KundeNr\n",
       "0     30  39919.095335           0  29.0   K1814\n",
       "1     41  53430.673086           0  27.0   K1544\n",
       "2     64  73163.216927           0  32.0   K1945\n",
       "3     41  36761.482581           0  44.0   K1825\n",
       "4     35  42684.331632           1  33.0   K1144"
      ]
     },
     "execution_count": 8,
     "metadata": {},
     "output_type": "execute_result"
    }
   ],
   "source": [
    "# Die Änderungen wurden nun übernommen\n",
    "df_besucher.head()"
   ]
  },
  {
   "cell_type": "code",
   "execution_count": 9,
   "id": "5fb4ef4b",
   "metadata": {},
   "outputs": [],
   "source": [
    "# Zsore für die Suche nach Ausreißern bestimmen\n",
    "\n",
    "df_besucher[\"Alter_zscore\"] = zscore(df_besucher.Alter)\n",
    "df_besucher[\"Einkommen_zscore\"] = zscore(df_besucher.Einkommen)\n",
    "df_besucher[\"Zeit_zscore\"] = zscore(df_besucher.Zeit)"
   ]
  },
  {
   "cell_type": "code",
   "execution_count": 10,
   "id": "5872d145",
   "metadata": {},
   "outputs": [
    {
     "data": {
      "text/html": [
       "<div>\n",
       "<style scoped>\n",
       "    .dataframe tbody tr th:only-of-type {\n",
       "        vertical-align: middle;\n",
       "    }\n",
       "\n",
       "    .dataframe tbody tr th {\n",
       "        vertical-align: top;\n",
       "    }\n",
       "\n",
       "    .dataframe thead th {\n",
       "        text-align: right;\n",
       "    }\n",
       "</style>\n",
       "<table border=\"1\" class=\"dataframe\">\n",
       "  <thead>\n",
       "    <tr style=\"text-align: right;\">\n",
       "      <th></th>\n",
       "      <th>Alter</th>\n",
       "      <th>Einkommen</th>\n",
       "      <th>Geschlecht</th>\n",
       "      <th>Zeit</th>\n",
       "      <th>KundeNr</th>\n",
       "      <th>Alter_zscore</th>\n",
       "      <th>Einkommen_zscore</th>\n",
       "      <th>Zeit_zscore</th>\n",
       "    </tr>\n",
       "  </thead>\n",
       "  <tbody>\n",
       "  </tbody>\n",
       "</table>\n",
       "</div>"
      ],
      "text/plain": [
       "Empty DataFrame\n",
       "Columns: [Alter, Einkommen, Geschlecht, Zeit, KundeNr, Alter_zscore, Einkommen_zscore, Zeit_zscore]\n",
       "Index: []"
      ]
     },
     "execution_count": 10,
     "metadata": {},
     "output_type": "execute_result"
    }
   ],
   "source": [
    "# Mit der query Methode alle Zeilen nach Zscore > / < 3 Standardabweichungen filtern\n",
    "df_besucher.query(\"Alter_zscore > 3\")"
   ]
  },
  {
   "cell_type": "code",
   "execution_count": 11,
   "id": "4828e823",
   "metadata": {},
   "outputs": [
    {
     "data": {
      "text/html": [
       "<div>\n",
       "<style scoped>\n",
       "    .dataframe tbody tr th:only-of-type {\n",
       "        vertical-align: middle;\n",
       "    }\n",
       "\n",
       "    .dataframe tbody tr th {\n",
       "        vertical-align: top;\n",
       "    }\n",
       "\n",
       "    .dataframe thead th {\n",
       "        text-align: right;\n",
       "    }\n",
       "</style>\n",
       "<table border=\"1\" class=\"dataframe\">\n",
       "  <thead>\n",
       "    <tr style=\"text-align: right;\">\n",
       "      <th></th>\n",
       "      <th>Alter</th>\n",
       "      <th>Einkommen</th>\n",
       "      <th>Geschlecht</th>\n",
       "      <th>Zeit</th>\n",
       "      <th>KundeNr</th>\n",
       "      <th>Alter_zscore</th>\n",
       "      <th>Einkommen_zscore</th>\n",
       "      <th>Zeit_zscore</th>\n",
       "    </tr>\n",
       "  </thead>\n",
       "  <tbody>\n",
       "  </tbody>\n",
       "</table>\n",
       "</div>"
      ],
      "text/plain": [
       "Empty DataFrame\n",
       "Columns: [Alter, Einkommen, Geschlecht, Zeit, KundeNr, Alter_zscore, Einkommen_zscore, Zeit_zscore]\n",
       "Index: []"
      ]
     },
     "execution_count": 11,
     "metadata": {},
     "output_type": "execute_result"
    }
   ],
   "source": [
    "df_besucher.query(\"Alter_zscore < -3\")"
   ]
  },
  {
   "cell_type": "code",
   "execution_count": 12,
   "id": "679a366b",
   "metadata": {},
   "outputs": [
    {
     "data": {
      "text/html": [
       "<div>\n",
       "<style scoped>\n",
       "    .dataframe tbody tr th:only-of-type {\n",
       "        vertical-align: middle;\n",
       "    }\n",
       "\n",
       "    .dataframe tbody tr th {\n",
       "        vertical-align: top;\n",
       "    }\n",
       "\n",
       "    .dataframe thead th {\n",
       "        text-align: right;\n",
       "    }\n",
       "</style>\n",
       "<table border=\"1\" class=\"dataframe\">\n",
       "  <thead>\n",
       "    <tr style=\"text-align: right;\">\n",
       "      <th></th>\n",
       "      <th>Alter</th>\n",
       "      <th>Einkommen</th>\n",
       "      <th>Geschlecht</th>\n",
       "      <th>Zeit</th>\n",
       "      <th>KundeNr</th>\n",
       "      <th>Alter_zscore</th>\n",
       "      <th>Einkommen_zscore</th>\n",
       "      <th>Zeit_zscore</th>\n",
       "    </tr>\n",
       "  </thead>\n",
       "  <tbody>\n",
       "    <tr>\n",
       "      <th>44</th>\n",
       "      <td>69</td>\n",
       "      <td>108569.087021</td>\n",
       "      <td>1</td>\n",
       "      <td>47.0</td>\n",
       "      <td>K1467</td>\n",
       "      <td>1.61216</td>\n",
       "      <td>3.045514</td>\n",
       "      <td>1.130167</td>\n",
       "    </tr>\n",
       "  </tbody>\n",
       "</table>\n",
       "</div>"
      ],
      "text/plain": [
       "    Alter      Einkommen  Geschlecht  Zeit KundeNr  Alter_zscore  \\\n",
       "44     69  108569.087021           1  47.0   K1467       1.61216   \n",
       "\n",
       "    Einkommen_zscore  Zeit_zscore  \n",
       "44          3.045514     1.130167  "
      ]
     },
     "execution_count": 12,
     "metadata": {},
     "output_type": "execute_result"
    }
   ],
   "source": [
    "df_besucher.query(\"Einkommen_zscore > 3\")"
   ]
  },
  {
   "cell_type": "code",
   "execution_count": 13,
   "id": "85d3afe8",
   "metadata": {},
   "outputs": [
    {
     "data": {
      "text/html": [
       "<div>\n",
       "<style scoped>\n",
       "    .dataframe tbody tr th:only-of-type {\n",
       "        vertical-align: middle;\n",
       "    }\n",
       "\n",
       "    .dataframe tbody tr th {\n",
       "        vertical-align: top;\n",
       "    }\n",
       "\n",
       "    .dataframe thead th {\n",
       "        text-align: right;\n",
       "    }\n",
       "</style>\n",
       "<table border=\"1\" class=\"dataframe\">\n",
       "  <thead>\n",
       "    <tr style=\"text-align: right;\">\n",
       "      <th></th>\n",
       "      <th>Alter</th>\n",
       "      <th>Einkommen</th>\n",
       "      <th>Geschlecht</th>\n",
       "      <th>Zeit</th>\n",
       "      <th>KundeNr</th>\n",
       "      <th>Alter_zscore</th>\n",
       "      <th>Einkommen_zscore</th>\n",
       "      <th>Zeit_zscore</th>\n",
       "    </tr>\n",
       "  </thead>\n",
       "  <tbody>\n",
       "    <tr>\n",
       "      <th>265</th>\n",
       "      <td>31</td>\n",
       "      <td>10802.033307</td>\n",
       "      <td>1</td>\n",
       "      <td>25.0</td>\n",
       "      <td>K1561</td>\n",
       "      <td>-1.592096</td>\n",
       "      <td>-3.006193</td>\n",
       "      <td>-0.970889</td>\n",
       "    </tr>\n",
       "  </tbody>\n",
       "</table>\n",
       "</div>"
      ],
      "text/plain": [
       "     Alter     Einkommen  Geschlecht  Zeit KundeNr  Alter_zscore  \\\n",
       "265     31  10802.033307           1  25.0   K1561     -1.592096   \n",
       "\n",
       "     Einkommen_zscore  Zeit_zscore  \n",
       "265         -3.006193    -0.970889  "
      ]
     },
     "execution_count": 13,
     "metadata": {},
     "output_type": "execute_result"
    }
   ],
   "source": [
    "df_besucher.query(\"Einkommen_zscore < -3\")"
   ]
  },
  {
   "cell_type": "code",
   "execution_count": 14,
   "id": "6a3c624a",
   "metadata": {},
   "outputs": [
    {
     "data": {
      "text/html": [
       "<div>\n",
       "<style scoped>\n",
       "    .dataframe tbody tr th:only-of-type {\n",
       "        vertical-align: middle;\n",
       "    }\n",
       "\n",
       "    .dataframe tbody tr th {\n",
       "        vertical-align: top;\n",
       "    }\n",
       "\n",
       "    .dataframe thead th {\n",
       "        text-align: right;\n",
       "    }\n",
       "</style>\n",
       "<table border=\"1\" class=\"dataframe\">\n",
       "  <thead>\n",
       "    <tr style=\"text-align: right;\">\n",
       "      <th></th>\n",
       "      <th>Alter</th>\n",
       "      <th>Einkommen</th>\n",
       "      <th>Geschlecht</th>\n",
       "      <th>Zeit</th>\n",
       "      <th>KundeNr</th>\n",
       "      <th>Alter_zscore</th>\n",
       "      <th>Einkommen_zscore</th>\n",
       "      <th>Zeit_zscore</th>\n",
       "    </tr>\n",
       "  </thead>\n",
       "  <tbody>\n",
       "    <tr>\n",
       "      <th>603</th>\n",
       "      <td>62</td>\n",
       "      <td>84204.706728</td>\n",
       "      <td>1</td>\n",
       "      <td>68.0</td>\n",
       "      <td>K1526</td>\n",
       "      <td>1.021902</td>\n",
       "      <td>1.537377</td>\n",
       "      <td>3.135722</td>\n",
       "    </tr>\n",
       "  </tbody>\n",
       "</table>\n",
       "</div>"
      ],
      "text/plain": [
       "     Alter     Einkommen  Geschlecht  Zeit KundeNr  Alter_zscore  \\\n",
       "603     62  84204.706728           1  68.0   K1526      1.021902   \n",
       "\n",
       "     Einkommen_zscore  Zeit_zscore  \n",
       "603          1.537377     3.135722  "
      ]
     },
     "execution_count": 14,
     "metadata": {},
     "output_type": "execute_result"
    }
   ],
   "source": [
    "df_besucher.query(\"Zeit_zscore > 3\")"
   ]
  },
  {
   "cell_type": "code",
   "execution_count": 15,
   "id": "f0cff41b",
   "metadata": {},
   "outputs": [
    {
     "data": {
      "text/html": [
       "<div>\n",
       "<style scoped>\n",
       "    .dataframe tbody tr th:only-of-type {\n",
       "        vertical-align: middle;\n",
       "    }\n",
       "\n",
       "    .dataframe tbody tr th {\n",
       "        vertical-align: top;\n",
       "    }\n",
       "\n",
       "    .dataframe thead th {\n",
       "        text-align: right;\n",
       "    }\n",
       "</style>\n",
       "<table border=\"1\" class=\"dataframe\">\n",
       "  <thead>\n",
       "    <tr style=\"text-align: right;\">\n",
       "      <th></th>\n",
       "      <th>Alter</th>\n",
       "      <th>Einkommen</th>\n",
       "      <th>Geschlecht</th>\n",
       "      <th>Zeit</th>\n",
       "      <th>KundeNr</th>\n",
       "      <th>Alter_zscore</th>\n",
       "      <th>Einkommen_zscore</th>\n",
       "      <th>Zeit_zscore</th>\n",
       "    </tr>\n",
       "  </thead>\n",
       "  <tbody>\n",
       "    <tr>\n",
       "      <th>158</th>\n",
       "      <td>31</td>\n",
       "      <td>38298.533652</td>\n",
       "      <td>1</td>\n",
       "      <td>3.0</td>\n",
       "      <td>K1623</td>\n",
       "      <td>-1.592096</td>\n",
       "      <td>-1.30418</td>\n",
       "      <td>-3.071946</td>\n",
       "    </tr>\n",
       "  </tbody>\n",
       "</table>\n",
       "</div>"
      ],
      "text/plain": [
       "     Alter     Einkommen  Geschlecht  Zeit KundeNr  Alter_zscore  \\\n",
       "158     31  38298.533652           1   3.0   K1623     -1.592096   \n",
       "\n",
       "     Einkommen_zscore  Zeit_zscore  \n",
       "158          -1.30418    -3.071946  "
      ]
     },
     "execution_count": 15,
     "metadata": {},
     "output_type": "execute_result"
    }
   ],
   "source": [
    "df_besucher.query(\"Zeit_zscore < -3\")"
   ]
  },
  {
   "cell_type": "code",
   "execution_count": 16,
   "id": "bee0a24a",
   "metadata": {},
   "outputs": [
    {
     "data": {
      "text/plain": [
       "Alter               0.0\n",
       "Einkommen           0.0\n",
       "Geschlecht          0.0\n",
       "Zeit                0.0\n",
       "KundeNr             0.0\n",
       "Alter_zscore        0.0\n",
       "Einkommen_zscore    0.0\n",
       "Zeit_zscore         0.0\n",
       "dtype: float64"
      ]
     },
     "execution_count": 16,
     "metadata": {},
     "output_type": "execute_result"
    }
   ],
   "source": [
    "# Zeigt die fehlenden Werte je Zeile in Prozent an\n",
    "df_besucher.isna().mean()"
   ]
  },
  {
   "cell_type": "code",
   "execution_count": 17,
   "id": "045c0889",
   "metadata": {},
   "outputs": [],
   "source": [
    "# Ausreißer und NaNs mit Median ersetzen (Median um unanfälliger gegenüber Ausreißern zu sein als bei Durchschnitt)\n",
    "\n",
    "ersetz_eink = [44, 265] # Zu ersetzende Indexpositionen  \n",
    "ersetz_zeit = [603, 158]\n",
    "\n",
    "# Mit loc Funktion Index und Spalte angeben und dann mit Median ersetzen\n",
    "df_besucher.loc[ersetz_eink, 'Einkommen'] = df_besucher.Einkommen.median()\n",
    "df_besucher.loc[ersetz_zeit, 'Zeit'] = df_besucher.Zeit.median()\n",
    "#df_besucher.Geschlecht.fillna(df_besucher.Geschlecht.median(), inplace=True)"
   ]
  },
  {
   "cell_type": "code",
   "execution_count": 18,
   "id": "7ac292e7",
   "metadata": {},
   "outputs": [],
   "source": [
    "# Zscore Spalten werden nicht mehr benötigt und können gelöscht werden\n",
    "df_besucher.drop(columns=[\"Alter_zscore\", \"Einkommen_zscore\", \"Zeit_zscore\"], inplace=True)"
   ]
  },
  {
   "cell_type": "markdown",
   "id": "6b0c3882",
   "metadata": {},
   "source": [
    "## Datenbereinigung Kundendatei"
   ]
  },
  {
   "cell_type": "code",
   "execution_count": 19,
   "id": "15cbef9c",
   "metadata": {},
   "outputs": [
    {
     "data": {
      "text/html": [
       "<div>\n",
       "<style scoped>\n",
       "    .dataframe tbody tr th:only-of-type {\n",
       "        vertical-align: middle;\n",
       "    }\n",
       "\n",
       "    .dataframe tbody tr th {\n",
       "        vertical-align: top;\n",
       "    }\n",
       "\n",
       "    .dataframe thead th {\n",
       "        text-align: right;\n",
       "    }\n",
       "</style>\n",
       "<table border=\"1\" class=\"dataframe\">\n",
       "  <thead>\n",
       "    <tr style=\"text-align: right;\">\n",
       "      <th></th>\n",
       "      <th>Alter</th>\n",
       "      <th>Einkommen</th>\n",
       "      <th>Preis</th>\n",
       "      <th>Geschlecht</th>\n",
       "      <th>Zeit</th>\n",
       "      <th>KundeNr</th>\n",
       "    </tr>\n",
       "  </thead>\n",
       "  <tbody>\n",
       "    <tr>\n",
       "      <th>0</th>\n",
       "      <td>64</td>\n",
       "      <td>66894.0</td>\n",
       "      <td>88160.31</td>\n",
       "      <td>1.0</td>\n",
       "      <td>43.0</td>\n",
       "      <td>K0310</td>\n",
       "    </tr>\n",
       "    <tr>\n",
       "      <th>1</th>\n",
       "      <td>54</td>\n",
       "      <td>77644.0</td>\n",
       "      <td>103145.70</td>\n",
       "      <td>1.0</td>\n",
       "      <td>40.0</td>\n",
       "      <td>K1042</td>\n",
       "    </tr>\n",
       "    <tr>\n",
       "      <th>2</th>\n",
       "      <td>55</td>\n",
       "      <td>44341.0</td>\n",
       "      <td>80565.16</td>\n",
       "      <td>0.0</td>\n",
       "      <td>37.0</td>\n",
       "      <td>K0382</td>\n",
       "    </tr>\n",
       "    <tr>\n",
       "      <th>3</th>\n",
       "      <td>49</td>\n",
       "      <td>67271.0</td>\n",
       "      <td>83949.89</td>\n",
       "      <td>0.0</td>\n",
       "      <td>42.0</td>\n",
       "      <td>K0498</td>\n",
       "    </tr>\n",
       "    <tr>\n",
       "      <th>4</th>\n",
       "      <td>46</td>\n",
       "      <td>49832.0</td>\n",
       "      <td>93781.58</td>\n",
       "      <td>0.0</td>\n",
       "      <td>41.0</td>\n",
       "      <td>K0552</td>\n",
       "    </tr>\n",
       "  </tbody>\n",
       "</table>\n",
       "</div>"
      ],
      "text/plain": [
       "   Alter  Einkommen      Preis  Geschlecht  Zeit KundeNr\n",
       "0     64    66894.0   88160.31         1.0  43.0   K0310\n",
       "1     54    77644.0  103145.70         1.0  40.0   K1042\n",
       "2     55    44341.0   80565.16         0.0  37.0   K0382\n",
       "3     49    67271.0   83949.89         0.0  42.0   K0498\n",
       "4     46    49832.0   93781.58         0.0  41.0   K0552"
      ]
     },
     "execution_count": 19,
     "metadata": {},
     "output_type": "execute_result"
    }
   ],
   "source": [
    "df_kunden.head()"
   ]
  },
  {
   "cell_type": "code",
   "execution_count": 20,
   "id": "06fa8b0d",
   "metadata": {},
   "outputs": [
    {
     "data": {
      "text/plain": [
       "Alter           int64\n",
       "Einkommen     float64\n",
       "Preis         float64\n",
       "Geschlecht    float64\n",
       "Zeit          float64\n",
       "KundeNr        object\n",
       "dtype: object"
      ]
     },
     "execution_count": 20,
     "metadata": {},
     "output_type": "execute_result"
    }
   ],
   "source": [
    "df_kunden.dtypes"
   ]
  },
  {
   "cell_type": "code",
   "execution_count": 21,
   "id": "aa135104",
   "metadata": {},
   "outputs": [
    {
     "data": {
      "text/html": [
       "<div>\n",
       "<style scoped>\n",
       "    .dataframe tbody tr th:only-of-type {\n",
       "        vertical-align: middle;\n",
       "    }\n",
       "\n",
       "    .dataframe tbody tr th {\n",
       "        vertical-align: top;\n",
       "    }\n",
       "\n",
       "    .dataframe thead th {\n",
       "        text-align: right;\n",
       "    }\n",
       "</style>\n",
       "<table border=\"1\" class=\"dataframe\">\n",
       "  <thead>\n",
       "    <tr style=\"text-align: right;\">\n",
       "      <th></th>\n",
       "      <th>Alter</th>\n",
       "      <th>Einkommen</th>\n",
       "      <th>Preis</th>\n",
       "      <th>Geschlecht</th>\n",
       "      <th>Zeit</th>\n",
       "    </tr>\n",
       "  </thead>\n",
       "  <tbody>\n",
       "    <tr>\n",
       "      <th>count</th>\n",
       "      <td>1104.000000</td>\n",
       "      <td>1.104000e+03</td>\n",
       "      <td>1104.000000</td>\n",
       "      <td>1099.000000</td>\n",
       "      <td>1104.000000</td>\n",
       "    </tr>\n",
       "    <tr>\n",
       "      <th>mean</th>\n",
       "      <td>50.481884</td>\n",
       "      <td>9.644748e+05</td>\n",
       "      <td>88975.198714</td>\n",
       "      <td>0.637853</td>\n",
       "      <td>44.375906</td>\n",
       "    </tr>\n",
       "    <tr>\n",
       "      <th>std</th>\n",
       "      <td>12.225059</td>\n",
       "      <td>3.009470e+07</td>\n",
       "      <td>24464.067781</td>\n",
       "      <td>0.480840</td>\n",
       "      <td>10.848040</td>\n",
       "    </tr>\n",
       "    <tr>\n",
       "      <th>min</th>\n",
       "      <td>30.000000</td>\n",
       "      <td>-6.284037e+04</td>\n",
       "      <td>21471.650000</td>\n",
       "      <td>0.000000</td>\n",
       "      <td>12.000000</td>\n",
       "    </tr>\n",
       "    <tr>\n",
       "      <th>25%</th>\n",
       "      <td>40.000000</td>\n",
       "      <td>4.663850e+04</td>\n",
       "      <td>70609.422500</td>\n",
       "      <td>0.000000</td>\n",
       "      <td>37.000000</td>\n",
       "    </tr>\n",
       "    <tr>\n",
       "      <th>50%</th>\n",
       "      <td>51.000000</td>\n",
       "      <td>5.901300e+04</td>\n",
       "      <td>88931.455000</td>\n",
       "      <td>1.000000</td>\n",
       "      <td>44.000000</td>\n",
       "    </tr>\n",
       "    <tr>\n",
       "      <th>75%</th>\n",
       "      <td>61.000000</td>\n",
       "      <td>7.029800e+04</td>\n",
       "      <td>107093.375000</td>\n",
       "      <td>1.000000</td>\n",
       "      <td>52.000000</td>\n",
       "    </tr>\n",
       "    <tr>\n",
       "      <th>max</th>\n",
       "      <td>120.000000</td>\n",
       "      <td>1.000000e+09</td>\n",
       "      <td>165482.310000</td>\n",
       "      <td>1.000000</td>\n",
       "      <td>80.000000</td>\n",
       "    </tr>\n",
       "  </tbody>\n",
       "</table>\n",
       "</div>"
      ],
      "text/plain": [
       "             Alter     Einkommen          Preis   Geschlecht         Zeit\n",
       "count  1104.000000  1.104000e+03    1104.000000  1099.000000  1104.000000\n",
       "mean     50.481884  9.644748e+05   88975.198714     0.637853    44.375906\n",
       "std      12.225059  3.009470e+07   24464.067781     0.480840    10.848040\n",
       "min      30.000000 -6.284037e+04   21471.650000     0.000000    12.000000\n",
       "25%      40.000000  4.663850e+04   70609.422500     0.000000    37.000000\n",
       "50%      51.000000  5.901300e+04   88931.455000     1.000000    44.000000\n",
       "75%      61.000000  7.029800e+04  107093.375000     1.000000    52.000000\n",
       "max     120.000000  1.000000e+09  165482.310000     1.000000    80.000000"
      ]
     },
     "execution_count": 21,
     "metadata": {},
     "output_type": "execute_result"
    }
   ],
   "source": [
    "df_kunden.describe()"
   ]
  },
  {
   "cell_type": "code",
   "execution_count": 22,
   "id": "82d8b077",
   "metadata": {},
   "outputs": [],
   "source": [
    "# Zscore für Ausreißer\n",
    "\n",
    "df_kunden[\"Alter_zscore\"] = zscore(df_kunden.Alter)\n",
    "df_kunden[\"Einkommen_zscore\"] = zscore(df_kunden.Einkommen)\n",
    "df_kunden[\"Preis_zscore\"] = zscore(df_kunden.Preis)\n",
    "df_kunden[\"Zeit_zscore\"] = zscore(df_kunden.Zeit)"
   ]
  },
  {
   "cell_type": "code",
   "execution_count": 23,
   "id": "409a3bab",
   "metadata": {},
   "outputs": [
    {
     "data": {
      "text/html": [
       "<div>\n",
       "<style scoped>\n",
       "    .dataframe tbody tr th:only-of-type {\n",
       "        vertical-align: middle;\n",
       "    }\n",
       "\n",
       "    .dataframe tbody tr th {\n",
       "        vertical-align: top;\n",
       "    }\n",
       "\n",
       "    .dataframe thead th {\n",
       "        text-align: right;\n",
       "    }\n",
       "</style>\n",
       "<table border=\"1\" class=\"dataframe\">\n",
       "  <thead>\n",
       "    <tr style=\"text-align: right;\">\n",
       "      <th></th>\n",
       "      <th>Alter</th>\n",
       "      <th>Einkommen</th>\n",
       "      <th>Preis</th>\n",
       "      <th>Geschlecht</th>\n",
       "      <th>Zeit</th>\n",
       "      <th>KundeNr</th>\n",
       "      <th>Alter_zscore</th>\n",
       "      <th>Einkommen_zscore</th>\n",
       "      <th>Preis_zscore</th>\n",
       "      <th>Zeit_zscore</th>\n",
       "    </tr>\n",
       "  </thead>\n",
       "  <tbody>\n",
       "    <tr>\n",
       "      <th>142</th>\n",
       "      <td>100</td>\n",
       "      <td>88749.0</td>\n",
       "      <td>119134.23</td>\n",
       "      <td>0.0</td>\n",
       "      <td>64.0</td>\n",
       "      <td>K0494</td>\n",
       "      <td>4.052378</td>\n",
       "      <td>-0.029112</td>\n",
       "      <td>1.233348</td>\n",
       "      <td>1.809819</td>\n",
       "    </tr>\n",
       "    <tr>\n",
       "      <th>711</th>\n",
       "      <td>120</td>\n",
       "      <td>61857.0</td>\n",
       "      <td>104214.07</td>\n",
       "      <td>1.0</td>\n",
       "      <td>52.0</td>\n",
       "      <td>K0039</td>\n",
       "      <td>5.689103</td>\n",
       "      <td>-0.030006</td>\n",
       "      <td>0.623191</td>\n",
       "      <td>0.703127</td>\n",
       "    </tr>\n",
       "  </tbody>\n",
       "</table>\n",
       "</div>"
      ],
      "text/plain": [
       "     Alter  Einkommen      Preis  Geschlecht  Zeit KundeNr  Alter_zscore  \\\n",
       "142    100    88749.0  119134.23         0.0  64.0   K0494      4.052378   \n",
       "711    120    61857.0  104214.07         1.0  52.0   K0039      5.689103   \n",
       "\n",
       "     Einkommen_zscore  Preis_zscore  Zeit_zscore  \n",
       "142         -0.029112      1.233348     1.809819  \n",
       "711         -0.030006      0.623191     0.703127  "
      ]
     },
     "execution_count": 23,
     "metadata": {},
     "output_type": "execute_result"
    }
   ],
   "source": [
    "df_kunden.query(\"Alter_zscore > 3\")"
   ]
  },
  {
   "cell_type": "code",
   "execution_count": 24,
   "id": "896aa2be",
   "metadata": {},
   "outputs": [
    {
     "data": {
      "text/html": [
       "<div>\n",
       "<style scoped>\n",
       "    .dataframe tbody tr th:only-of-type {\n",
       "        vertical-align: middle;\n",
       "    }\n",
       "\n",
       "    .dataframe tbody tr th {\n",
       "        vertical-align: top;\n",
       "    }\n",
       "\n",
       "    .dataframe thead th {\n",
       "        text-align: right;\n",
       "    }\n",
       "</style>\n",
       "<table border=\"1\" class=\"dataframe\">\n",
       "  <thead>\n",
       "    <tr style=\"text-align: right;\">\n",
       "      <th></th>\n",
       "      <th>Alter</th>\n",
       "      <th>Einkommen</th>\n",
       "      <th>Preis</th>\n",
       "      <th>Geschlecht</th>\n",
       "      <th>Zeit</th>\n",
       "      <th>KundeNr</th>\n",
       "      <th>Alter_zscore</th>\n",
       "      <th>Einkommen_zscore</th>\n",
       "      <th>Preis_zscore</th>\n",
       "      <th>Zeit_zscore</th>\n",
       "    </tr>\n",
       "  </thead>\n",
       "  <tbody>\n",
       "  </tbody>\n",
       "</table>\n",
       "</div>"
      ],
      "text/plain": [
       "Empty DataFrame\n",
       "Columns: [Alter, Einkommen, Preis, Geschlecht, Zeit, KundeNr, Alter_zscore, Einkommen_zscore, Preis_zscore, Zeit_zscore]\n",
       "Index: []"
      ]
     },
     "execution_count": 24,
     "metadata": {},
     "output_type": "execute_result"
    }
   ],
   "source": [
    "df_kunden.query(\"Alter_zscore < -3\")"
   ]
  },
  {
   "cell_type": "code",
   "execution_count": 25,
   "id": "eb48435e",
   "metadata": {},
   "outputs": [
    {
     "data": {
      "text/html": [
       "<div>\n",
       "<style scoped>\n",
       "    .dataframe tbody tr th:only-of-type {\n",
       "        vertical-align: middle;\n",
       "    }\n",
       "\n",
       "    .dataframe tbody tr th {\n",
       "        vertical-align: top;\n",
       "    }\n",
       "\n",
       "    .dataframe thead th {\n",
       "        text-align: right;\n",
       "    }\n",
       "</style>\n",
       "<table border=\"1\" class=\"dataframe\">\n",
       "  <thead>\n",
       "    <tr style=\"text-align: right;\">\n",
       "      <th></th>\n",
       "      <th>Alter</th>\n",
       "      <th>Einkommen</th>\n",
       "      <th>Preis</th>\n",
       "      <th>Geschlecht</th>\n",
       "      <th>Zeit</th>\n",
       "      <th>KundeNr</th>\n",
       "      <th>Alter_zscore</th>\n",
       "      <th>Einkommen_zscore</th>\n",
       "      <th>Preis_zscore</th>\n",
       "      <th>Zeit_zscore</th>\n",
       "    </tr>\n",
       "  </thead>\n",
       "  <tbody>\n",
       "  </tbody>\n",
       "</table>\n",
       "</div>"
      ],
      "text/plain": [
       "Empty DataFrame\n",
       "Columns: [Alter, Einkommen, Preis, Geschlecht, Zeit, KundeNr, Alter_zscore, Einkommen_zscore, Preis_zscore, Zeit_zscore]\n",
       "Index: []"
      ]
     },
     "execution_count": 25,
     "metadata": {},
     "output_type": "execute_result"
    }
   ],
   "source": [
    "df_kunden.query(\"Alter < 0\")"
   ]
  },
  {
   "cell_type": "code",
   "execution_count": 26,
   "id": "e97d1bf2",
   "metadata": {},
   "outputs": [
    {
     "data": {
      "text/html": [
       "<div>\n",
       "<style scoped>\n",
       "    .dataframe tbody tr th:only-of-type {\n",
       "        vertical-align: middle;\n",
       "    }\n",
       "\n",
       "    .dataframe tbody tr th {\n",
       "        vertical-align: top;\n",
       "    }\n",
       "\n",
       "    .dataframe thead th {\n",
       "        text-align: right;\n",
       "    }\n",
       "</style>\n",
       "<table border=\"1\" class=\"dataframe\">\n",
       "  <thead>\n",
       "    <tr style=\"text-align: right;\">\n",
       "      <th></th>\n",
       "      <th>Alter</th>\n",
       "      <th>Einkommen</th>\n",
       "      <th>Preis</th>\n",
       "      <th>Geschlecht</th>\n",
       "      <th>Zeit</th>\n",
       "      <th>KundeNr</th>\n",
       "      <th>Alter_zscore</th>\n",
       "      <th>Einkommen_zscore</th>\n",
       "      <th>Preis_zscore</th>\n",
       "      <th>Zeit_zscore</th>\n",
       "    </tr>\n",
       "  </thead>\n",
       "  <tbody>\n",
       "    <tr>\n",
       "      <th>408</th>\n",
       "      <td>68</td>\n",
       "      <td>1.000000e+09</td>\n",
       "      <td>87209.72</td>\n",
       "      <td>0.0</td>\n",
       "      <td>52.0</td>\n",
       "      <td>K0701</td>\n",
       "      <td>1.433617</td>\n",
       "      <td>33.211439</td>\n",
       "      <td>-0.072199</td>\n",
       "      <td>0.703127</td>\n",
       "    </tr>\n",
       "  </tbody>\n",
       "</table>\n",
       "</div>"
      ],
      "text/plain": [
       "     Alter     Einkommen     Preis  Geschlecht  Zeit KundeNr  Alter_zscore  \\\n",
       "408     68  1.000000e+09  87209.72         0.0  52.0   K0701      1.433617   \n",
       "\n",
       "     Einkommen_zscore  Preis_zscore  Zeit_zscore  \n",
       "408         33.211439     -0.072199     0.703127  "
      ]
     },
     "execution_count": 26,
     "metadata": {},
     "output_type": "execute_result"
    }
   ],
   "source": [
    "df_kunden.query(\"Einkommen_zscore > 3\")"
   ]
  },
  {
   "cell_type": "code",
   "execution_count": 27,
   "id": "8d274fdf",
   "metadata": {},
   "outputs": [
    {
     "data": {
      "text/html": [
       "<div>\n",
       "<style scoped>\n",
       "    .dataframe tbody tr th:only-of-type {\n",
       "        vertical-align: middle;\n",
       "    }\n",
       "\n",
       "    .dataframe tbody tr th {\n",
       "        vertical-align: top;\n",
       "    }\n",
       "\n",
       "    .dataframe thead th {\n",
       "        text-align: right;\n",
       "    }\n",
       "</style>\n",
       "<table border=\"1\" class=\"dataframe\">\n",
       "  <thead>\n",
       "    <tr style=\"text-align: right;\">\n",
       "      <th></th>\n",
       "      <th>Alter</th>\n",
       "      <th>Einkommen</th>\n",
       "      <th>Preis</th>\n",
       "      <th>Geschlecht</th>\n",
       "      <th>Zeit</th>\n",
       "      <th>KundeNr</th>\n",
       "      <th>Alter_zscore</th>\n",
       "      <th>Einkommen_zscore</th>\n",
       "      <th>Preis_zscore</th>\n",
       "      <th>Zeit_zscore</th>\n",
       "    </tr>\n",
       "  </thead>\n",
       "  <tbody>\n",
       "  </tbody>\n",
       "</table>\n",
       "</div>"
      ],
      "text/plain": [
       "Empty DataFrame\n",
       "Columns: [Alter, Einkommen, Preis, Geschlecht, Zeit, KundeNr, Alter_zscore, Einkommen_zscore, Preis_zscore, Zeit_zscore]\n",
       "Index: []"
      ]
     },
     "execution_count": 27,
     "metadata": {},
     "output_type": "execute_result"
    }
   ],
   "source": [
    "df_kunden.query(\"Einkommen_zscore < -3\")"
   ]
  },
  {
   "cell_type": "code",
   "execution_count": 28,
   "id": "aa1c22cc",
   "metadata": {},
   "outputs": [
    {
     "data": {
      "text/html": [
       "<div>\n",
       "<style scoped>\n",
       "    .dataframe tbody tr th:only-of-type {\n",
       "        vertical-align: middle;\n",
       "    }\n",
       "\n",
       "    .dataframe tbody tr th {\n",
       "        vertical-align: top;\n",
       "    }\n",
       "\n",
       "    .dataframe thead th {\n",
       "        text-align: right;\n",
       "    }\n",
       "</style>\n",
       "<table border=\"1\" class=\"dataframe\">\n",
       "  <thead>\n",
       "    <tr style=\"text-align: right;\">\n",
       "      <th></th>\n",
       "      <th>Alter</th>\n",
       "      <th>Einkommen</th>\n",
       "      <th>Preis</th>\n",
       "      <th>Geschlecht</th>\n",
       "      <th>Zeit</th>\n",
       "      <th>KundeNr</th>\n",
       "      <th>Alter_zscore</th>\n",
       "      <th>Einkommen_zscore</th>\n",
       "      <th>Preis_zscore</th>\n",
       "      <th>Zeit_zscore</th>\n",
       "    </tr>\n",
       "  </thead>\n",
       "  <tbody>\n",
       "    <tr>\n",
       "      <th>1082</th>\n",
       "      <td>59</td>\n",
       "      <td>-62840.374523</td>\n",
       "      <td>92837.59</td>\n",
       "      <td>0.0</td>\n",
       "      <td>46.0</td>\n",
       "      <td>K1083</td>\n",
       "      <td>0.697091</td>\n",
       "      <td>-0.034152</td>\n",
       "      <td>0.157952</td>\n",
       "      <td>0.149781</td>\n",
       "    </tr>\n",
       "  </tbody>\n",
       "</table>\n",
       "</div>"
      ],
      "text/plain": [
       "      Alter     Einkommen     Preis  Geschlecht  Zeit KundeNr  Alter_zscore  \\\n",
       "1082     59 -62840.374523  92837.59         0.0  46.0   K1083      0.697091   \n",
       "\n",
       "      Einkommen_zscore  Preis_zscore  Zeit_zscore  \n",
       "1082         -0.034152      0.157952     0.149781  "
      ]
     },
     "execution_count": 28,
     "metadata": {},
     "output_type": "execute_result"
    }
   ],
   "source": [
    "df_kunden.query(\"Einkommen < 0\")"
   ]
  },
  {
   "cell_type": "code",
   "execution_count": 29,
   "id": "02d60035",
   "metadata": {},
   "outputs": [
    {
     "data": {
      "text/html": [
       "<div>\n",
       "<style scoped>\n",
       "    .dataframe tbody tr th:only-of-type {\n",
       "        vertical-align: middle;\n",
       "    }\n",
       "\n",
       "    .dataframe tbody tr th {\n",
       "        vertical-align: top;\n",
       "    }\n",
       "\n",
       "    .dataframe thead th {\n",
       "        text-align: right;\n",
       "    }\n",
       "</style>\n",
       "<table border=\"1\" class=\"dataframe\">\n",
       "  <thead>\n",
       "    <tr style=\"text-align: right;\">\n",
       "      <th></th>\n",
       "      <th>Alter</th>\n",
       "      <th>Einkommen</th>\n",
       "      <th>Preis</th>\n",
       "      <th>Geschlecht</th>\n",
       "      <th>Zeit</th>\n",
       "      <th>KundeNr</th>\n",
       "      <th>Alter_zscore</th>\n",
       "      <th>Einkommen_zscore</th>\n",
       "      <th>Preis_zscore</th>\n",
       "      <th>Zeit_zscore</th>\n",
       "    </tr>\n",
       "  </thead>\n",
       "  <tbody>\n",
       "    <tr>\n",
       "      <th>834</th>\n",
       "      <td>68</td>\n",
       "      <td>107689.0</td>\n",
       "      <td>165482.31</td>\n",
       "      <td>1.0</td>\n",
       "      <td>60.0</td>\n",
       "      <td>K0415</td>\n",
       "      <td>1.433617</td>\n",
       "      <td>-0.028483</td>\n",
       "      <td>3.128743</td>\n",
       "      <td>1.440922</td>\n",
       "    </tr>\n",
       "  </tbody>\n",
       "</table>\n",
       "</div>"
      ],
      "text/plain": [
       "     Alter  Einkommen      Preis  Geschlecht  Zeit KundeNr  Alter_zscore  \\\n",
       "834     68   107689.0  165482.31         1.0  60.0   K0415      1.433617   \n",
       "\n",
       "     Einkommen_zscore  Preis_zscore  Zeit_zscore  \n",
       "834         -0.028483      3.128743     1.440922  "
      ]
     },
     "execution_count": 29,
     "metadata": {},
     "output_type": "execute_result"
    }
   ],
   "source": [
    "df_kunden.query(\"Preis_zscore > 3\")"
   ]
  },
  {
   "cell_type": "code",
   "execution_count": 30,
   "id": "1b124ded",
   "metadata": {},
   "outputs": [
    {
     "data": {
      "text/html": [
       "<div>\n",
       "<style scoped>\n",
       "    .dataframe tbody tr th:only-of-type {\n",
       "        vertical-align: middle;\n",
       "    }\n",
       "\n",
       "    .dataframe tbody tr th {\n",
       "        vertical-align: top;\n",
       "    }\n",
       "\n",
       "    .dataframe thead th {\n",
       "        text-align: right;\n",
       "    }\n",
       "</style>\n",
       "<table border=\"1\" class=\"dataframe\">\n",
       "  <thead>\n",
       "    <tr style=\"text-align: right;\">\n",
       "      <th></th>\n",
       "      <th>Alter</th>\n",
       "      <th>Einkommen</th>\n",
       "      <th>Preis</th>\n",
       "      <th>Geschlecht</th>\n",
       "      <th>Zeit</th>\n",
       "      <th>KundeNr</th>\n",
       "      <th>Alter_zscore</th>\n",
       "      <th>Einkommen_zscore</th>\n",
       "      <th>Preis_zscore</th>\n",
       "      <th>Zeit_zscore</th>\n",
       "    </tr>\n",
       "  </thead>\n",
       "  <tbody>\n",
       "  </tbody>\n",
       "</table>\n",
       "</div>"
      ],
      "text/plain": [
       "Empty DataFrame\n",
       "Columns: [Alter, Einkommen, Preis, Geschlecht, Zeit, KundeNr, Alter_zscore, Einkommen_zscore, Preis_zscore, Zeit_zscore]\n",
       "Index: []"
      ]
     },
     "execution_count": 30,
     "metadata": {},
     "output_type": "execute_result"
    }
   ],
   "source": [
    "df_kunden.query(\"Preis_zscore < -3\")"
   ]
  },
  {
   "cell_type": "code",
   "execution_count": 31,
   "id": "6d3dc517",
   "metadata": {},
   "outputs": [
    {
     "data": {
      "text/html": [
       "<div>\n",
       "<style scoped>\n",
       "    .dataframe tbody tr th:only-of-type {\n",
       "        vertical-align: middle;\n",
       "    }\n",
       "\n",
       "    .dataframe tbody tr th {\n",
       "        vertical-align: top;\n",
       "    }\n",
       "\n",
       "    .dataframe thead th {\n",
       "        text-align: right;\n",
       "    }\n",
       "</style>\n",
       "<table border=\"1\" class=\"dataframe\">\n",
       "  <thead>\n",
       "    <tr style=\"text-align: right;\">\n",
       "      <th></th>\n",
       "      <th>Alter</th>\n",
       "      <th>Einkommen</th>\n",
       "      <th>Preis</th>\n",
       "      <th>Geschlecht</th>\n",
       "      <th>Zeit</th>\n",
       "      <th>KundeNr</th>\n",
       "      <th>Alter_zscore</th>\n",
       "      <th>Einkommen_zscore</th>\n",
       "      <th>Preis_zscore</th>\n",
       "      <th>Zeit_zscore</th>\n",
       "    </tr>\n",
       "  </thead>\n",
       "  <tbody>\n",
       "  </tbody>\n",
       "</table>\n",
       "</div>"
      ],
      "text/plain": [
       "Empty DataFrame\n",
       "Columns: [Alter, Einkommen, Preis, Geschlecht, Zeit, KundeNr, Alter_zscore, Einkommen_zscore, Preis_zscore, Zeit_zscore]\n",
       "Index: []"
      ]
     },
     "execution_count": 31,
     "metadata": {},
     "output_type": "execute_result"
    }
   ],
   "source": [
    "df_kunden.query(\"Preis < 0\")"
   ]
  },
  {
   "cell_type": "code",
   "execution_count": 32,
   "id": "bdcd761e",
   "metadata": {},
   "outputs": [
    {
     "data": {
      "text/html": [
       "<div>\n",
       "<style scoped>\n",
       "    .dataframe tbody tr th:only-of-type {\n",
       "        vertical-align: middle;\n",
       "    }\n",
       "\n",
       "    .dataframe tbody tr th {\n",
       "        vertical-align: top;\n",
       "    }\n",
       "\n",
       "    .dataframe thead th {\n",
       "        text-align: right;\n",
       "    }\n",
       "</style>\n",
       "<table border=\"1\" class=\"dataframe\">\n",
       "  <thead>\n",
       "    <tr style=\"text-align: right;\">\n",
       "      <th></th>\n",
       "      <th>Alter</th>\n",
       "      <th>Einkommen</th>\n",
       "      <th>Preis</th>\n",
       "      <th>Geschlecht</th>\n",
       "      <th>Zeit</th>\n",
       "      <th>KundeNr</th>\n",
       "      <th>Alter_zscore</th>\n",
       "      <th>Einkommen_zscore</th>\n",
       "      <th>Preis_zscore</th>\n",
       "      <th>Zeit_zscore</th>\n",
       "    </tr>\n",
       "  </thead>\n",
       "  <tbody>\n",
       "    <tr>\n",
       "      <th>313</th>\n",
       "      <td>62</td>\n",
       "      <td>96569.0</td>\n",
       "      <td>140745.65</td>\n",
       "      <td>0.0</td>\n",
       "      <td>80.0</td>\n",
       "      <td>K0249</td>\n",
       "      <td>0.9426</td>\n",
       "      <td>-0.028852</td>\n",
       "      <td>2.117142</td>\n",
       "      <td>3.285408</td>\n",
       "    </tr>\n",
       "  </tbody>\n",
       "</table>\n",
       "</div>"
      ],
      "text/plain": [
       "     Alter  Einkommen      Preis  Geschlecht  Zeit KundeNr  Alter_zscore  \\\n",
       "313     62    96569.0  140745.65         0.0  80.0   K0249        0.9426   \n",
       "\n",
       "     Einkommen_zscore  Preis_zscore  Zeit_zscore  \n",
       "313         -0.028852      2.117142     3.285408  "
      ]
     },
     "execution_count": 32,
     "metadata": {},
     "output_type": "execute_result"
    }
   ],
   "source": [
    "df_kunden.query(\"Zeit_zscore > 3\")"
   ]
  },
  {
   "cell_type": "code",
   "execution_count": 33,
   "id": "95789905",
   "metadata": {},
   "outputs": [
    {
     "data": {
      "text/html": [
       "<div>\n",
       "<style scoped>\n",
       "    .dataframe tbody tr th:only-of-type {\n",
       "        vertical-align: middle;\n",
       "    }\n",
       "\n",
       "    .dataframe tbody tr th {\n",
       "        vertical-align: top;\n",
       "    }\n",
       "\n",
       "    .dataframe thead th {\n",
       "        text-align: right;\n",
       "    }\n",
       "</style>\n",
       "<table border=\"1\" class=\"dataframe\">\n",
       "  <thead>\n",
       "    <tr style=\"text-align: right;\">\n",
       "      <th></th>\n",
       "      <th>Alter</th>\n",
       "      <th>Einkommen</th>\n",
       "      <th>Preis</th>\n",
       "      <th>Geschlecht</th>\n",
       "      <th>Zeit</th>\n",
       "      <th>KundeNr</th>\n",
       "      <th>Alter_zscore</th>\n",
       "      <th>Einkommen_zscore</th>\n",
       "      <th>Preis_zscore</th>\n",
       "      <th>Zeit_zscore</th>\n",
       "    </tr>\n",
       "  </thead>\n",
       "  <tbody>\n",
       "  </tbody>\n",
       "</table>\n",
       "</div>"
      ],
      "text/plain": [
       "Empty DataFrame\n",
       "Columns: [Alter, Einkommen, Preis, Geschlecht, Zeit, KundeNr, Alter_zscore, Einkommen_zscore, Preis_zscore, Zeit_zscore]\n",
       "Index: []"
      ]
     },
     "execution_count": 33,
     "metadata": {},
     "output_type": "execute_result"
    }
   ],
   "source": [
    "df_kunden.query(\"Zeit_zscore < -3\")"
   ]
  },
  {
   "cell_type": "code",
   "execution_count": 34,
   "id": "794d5f36",
   "metadata": {},
   "outputs": [
    {
     "data": {
      "text/html": [
       "<div>\n",
       "<style scoped>\n",
       "    .dataframe tbody tr th:only-of-type {\n",
       "        vertical-align: middle;\n",
       "    }\n",
       "\n",
       "    .dataframe tbody tr th {\n",
       "        vertical-align: top;\n",
       "    }\n",
       "\n",
       "    .dataframe thead th {\n",
       "        text-align: right;\n",
       "    }\n",
       "</style>\n",
       "<table border=\"1\" class=\"dataframe\">\n",
       "  <thead>\n",
       "    <tr style=\"text-align: right;\">\n",
       "      <th></th>\n",
       "      <th>Alter</th>\n",
       "      <th>Einkommen</th>\n",
       "      <th>Preis</th>\n",
       "      <th>Geschlecht</th>\n",
       "      <th>Zeit</th>\n",
       "      <th>KundeNr</th>\n",
       "      <th>Alter_zscore</th>\n",
       "      <th>Einkommen_zscore</th>\n",
       "      <th>Preis_zscore</th>\n",
       "      <th>Zeit_zscore</th>\n",
       "    </tr>\n",
       "  </thead>\n",
       "  <tbody>\n",
       "  </tbody>\n",
       "</table>\n",
       "</div>"
      ],
      "text/plain": [
       "Empty DataFrame\n",
       "Columns: [Alter, Einkommen, Preis, Geschlecht, Zeit, KundeNr, Alter_zscore, Einkommen_zscore, Preis_zscore, Zeit_zscore]\n",
       "Index: []"
      ]
     },
     "execution_count": 34,
     "metadata": {},
     "output_type": "execute_result"
    }
   ],
   "source": [
    "df_kunden.query(\"Zeit < 0\")"
   ]
  },
  {
   "cell_type": "code",
   "execution_count": 35,
   "id": "fb6b50d2",
   "metadata": {},
   "outputs": [
    {
     "data": {
      "text/plain": [
       "Alter               0.000000\n",
       "Einkommen           0.000000\n",
       "Preis               0.000000\n",
       "Geschlecht          0.004529\n",
       "Zeit                0.000000\n",
       "KundeNr             0.000000\n",
       "Alter_zscore        0.000000\n",
       "Einkommen_zscore    0.000000\n",
       "Preis_zscore        0.000000\n",
       "Zeit_zscore         0.000000\n",
       "dtype: float64"
      ]
     },
     "execution_count": 35,
     "metadata": {},
     "output_type": "execute_result"
    }
   ],
   "source": [
    "# Zeigt die fehlenden Werte je Zeile in Prozent an\n",
    "df_kunden.isna().mean()"
   ]
  },
  {
   "cell_type": "code",
   "execution_count": 36,
   "id": "cf42664d",
   "metadata": {},
   "outputs": [],
   "source": [
    "# Ausreißer und NaNs durch Median ersetzen - gleiches Vorgehen wie davor\n",
    "\n",
    "ersetz_alter_2 = [142, 711]\n",
    "ersetz_einkommen_2 = [408, 1082]\n",
    "ersetzZeit_2 = 313\n",
    "ersetzPreis_2 = 834\n",
    "\n",
    "df_kunden.loc[ersetz_alter_2, 'Alter'] = df_kunden.Alter.median()\n",
    "df_kunden.loc[ersetz_einkommen_2, 'Einkommen'] = df_kunden.Einkommen.median()\n",
    "df_kunden.loc[ersetzZeit_2, 'Zeit'] = df_kunden.Zeit.median()\n",
    "df_kunden.loc[ersetzPreis_2, 'Preis'] = df_kunden.Preis.median()\n",
    "\n",
    "df_kunden.Geschlecht.fillna(df_kunden.Geschlecht.median(), inplace=True)"
   ]
  },
  {
   "cell_type": "code",
   "execution_count": 37,
   "id": "fb9db1f7",
   "metadata": {},
   "outputs": [
    {
     "data": {
      "text/plain": [
       "59013.0"
      ]
     },
     "execution_count": 37,
     "metadata": {},
     "output_type": "execute_result"
    }
   ],
   "source": [
    "df_kunden.Einkommen.median()"
   ]
  },
  {
   "cell_type": "code",
   "execution_count": 38,
   "id": "8026103d",
   "metadata": {},
   "outputs": [],
   "source": [
    "# Zscore Spalten wieder entfernen\n",
    "df_kunden.drop(columns=[\"Alter_zscore\", \"Einkommen_zscore\", \"Preis_zscore\", \"Zeit_zscore\"], inplace=True)"
   ]
  },
  {
   "cell_type": "code",
   "execution_count": 39,
   "id": "fd07f128",
   "metadata": {},
   "outputs": [
    {
     "data": {
      "text/html": [
       "<div>\n",
       "<style scoped>\n",
       "    .dataframe tbody tr th:only-of-type {\n",
       "        vertical-align: middle;\n",
       "    }\n",
       "\n",
       "    .dataframe tbody tr th {\n",
       "        vertical-align: top;\n",
       "    }\n",
       "\n",
       "    .dataframe thead th {\n",
       "        text-align: right;\n",
       "    }\n",
       "</style>\n",
       "<table border=\"1\" class=\"dataframe\">\n",
       "  <thead>\n",
       "    <tr style=\"text-align: right;\">\n",
       "      <th></th>\n",
       "      <th>Alter</th>\n",
       "      <th>Einkommen</th>\n",
       "      <th>Preis</th>\n",
       "      <th>Geschlecht</th>\n",
       "      <th>Zeit</th>\n",
       "      <th>KundeNr</th>\n",
       "    </tr>\n",
       "  </thead>\n",
       "  <tbody>\n",
       "    <tr>\n",
       "      <th>0</th>\n",
       "      <td>64</td>\n",
       "      <td>66894.0</td>\n",
       "      <td>88160.31</td>\n",
       "      <td>1.0</td>\n",
       "      <td>43.0</td>\n",
       "      <td>K0310</td>\n",
       "    </tr>\n",
       "    <tr>\n",
       "      <th>1</th>\n",
       "      <td>54</td>\n",
       "      <td>77644.0</td>\n",
       "      <td>103145.70</td>\n",
       "      <td>1.0</td>\n",
       "      <td>40.0</td>\n",
       "      <td>K1042</td>\n",
       "    </tr>\n",
       "    <tr>\n",
       "      <th>2</th>\n",
       "      <td>55</td>\n",
       "      <td>44341.0</td>\n",
       "      <td>80565.16</td>\n",
       "      <td>0.0</td>\n",
       "      <td>37.0</td>\n",
       "      <td>K0382</td>\n",
       "    </tr>\n",
       "    <tr>\n",
       "      <th>3</th>\n",
       "      <td>49</td>\n",
       "      <td>67271.0</td>\n",
       "      <td>83949.89</td>\n",
       "      <td>0.0</td>\n",
       "      <td>42.0</td>\n",
       "      <td>K0498</td>\n",
       "    </tr>\n",
       "    <tr>\n",
       "      <th>4</th>\n",
       "      <td>46</td>\n",
       "      <td>49832.0</td>\n",
       "      <td>93781.58</td>\n",
       "      <td>0.0</td>\n",
       "      <td>41.0</td>\n",
       "      <td>K0552</td>\n",
       "    </tr>\n",
       "  </tbody>\n",
       "</table>\n",
       "</div>"
      ],
      "text/plain": [
       "   Alter  Einkommen      Preis  Geschlecht  Zeit KundeNr\n",
       "0     64    66894.0   88160.31         1.0  43.0   K0310\n",
       "1     54    77644.0  103145.70         1.0  40.0   K1042\n",
       "2     55    44341.0   80565.16         0.0  37.0   K0382\n",
       "3     49    67271.0   83949.89         0.0  42.0   K0498\n",
       "4     46    49832.0   93781.58         0.0  41.0   K0552"
      ]
     },
     "execution_count": 39,
     "metadata": {},
     "output_type": "execute_result"
    }
   ],
   "source": [
    "df_kunden.head()"
   ]
  },
  {
   "cell_type": "markdown",
   "id": "69c4a78e",
   "metadata": {},
   "source": [
    "## Datenbereinigung Geodatei"
   ]
  },
  {
   "cell_type": "code",
   "execution_count": 40,
   "id": "f61e537f",
   "metadata": {},
   "outputs": [
    {
     "data": {
      "text/html": [
       "<div>\n",
       "<style scoped>\n",
       "    .dataframe tbody tr th:only-of-type {\n",
       "        vertical-align: middle;\n",
       "    }\n",
       "\n",
       "    .dataframe tbody tr th {\n",
       "        vertical-align: top;\n",
       "    }\n",
       "\n",
       "    .dataframe thead th {\n",
       "        text-align: right;\n",
       "    }\n",
       "</style>\n",
       "<table border=\"1\" class=\"dataframe\">\n",
       "  <thead>\n",
       "    <tr style=\"text-align: right;\">\n",
       "      <th></th>\n",
       "      <th>KundeNr</th>\n",
       "      <th>Niederlassung</th>\n",
       "    </tr>\n",
       "  </thead>\n",
       "  <tbody>\n",
       "    <tr>\n",
       "      <th>0</th>\n",
       "      <td>K0001</td>\n",
       "      <td>Sachsen</td>\n",
       "    </tr>\n",
       "    <tr>\n",
       "      <th>1</th>\n",
       "      <td>K0002</td>\n",
       "      <td>NRW</td>\n",
       "    </tr>\n",
       "    <tr>\n",
       "      <th>2</th>\n",
       "      <td>K0003</td>\n",
       "      <td>Hessen</td>\n",
       "    </tr>\n",
       "    <tr>\n",
       "      <th>3</th>\n",
       "      <td>K0004</td>\n",
       "      <td>Bayern</td>\n",
       "    </tr>\n",
       "    <tr>\n",
       "      <th>4</th>\n",
       "      <td>K0005</td>\n",
       "      <td>Bayern</td>\n",
       "    </tr>\n",
       "  </tbody>\n",
       "</table>\n",
       "</div>"
      ],
      "text/plain": [
       "  KundeNr Niederlassung\n",
       "0   K0001       Sachsen\n",
       "1   K0002           NRW\n",
       "2   K0003        Hessen\n",
       "3   K0004        Bayern\n",
       "4   K0005        Bayern"
      ]
     },
     "execution_count": 40,
     "metadata": {},
     "output_type": "execute_result"
    }
   ],
   "source": [
    "txt_geo.head()"
   ]
  },
  {
   "cell_type": "code",
   "execution_count": 41,
   "id": "d368aac3",
   "metadata": {},
   "outputs": [
    {
     "data": {
      "text/plain": [
       "KundeNr          object\n",
       "Niederlassung    object\n",
       "dtype: object"
      ]
     },
     "execution_count": 41,
     "metadata": {},
     "output_type": "execute_result"
    }
   ],
   "source": [
    "# Die Datei enthält zwei Spalten, jeweils Strings\n",
    "txt_geo.dtypes"
   ]
  },
  {
   "cell_type": "code",
   "execution_count": 42,
   "id": "a5051360",
   "metadata": {},
   "outputs": [
    {
     "name": "stdout",
     "output_type": "stream",
     "text": [
      "['Sachsen' 'NRW' 'Hessen' 'Bayern' 'Baden-Württemberg'\n",
      " 'Nordrhein-Westfalen' 'Berlin' 'Niedersachsen' 'Brandenburg' 'Thüringen'\n",
      " 'Hamburg' 'Düsseldorf' 'Berlin-Charlottenburg' 'Berlin-Mitte' 'BERLIN']\n",
      "Einzigartige Einträge: 15\n"
     ]
    }
   ],
   "source": [
    "# Testen, welche Bundesländer es gibt und welche Ungereimtheiten auftreten\n",
    "\n",
    "print(txt_geo.Niederlassung.unique())\n",
    "print(\"Einzigartige Einträge: \" + str(txt_geo.Niederlassung.nunique()))"
   ]
  },
  {
   "cell_type": "code",
   "execution_count": 43,
   "id": "6026fdd3",
   "metadata": {},
   "outputs": [],
   "source": [
    "# Einheitliches Format erzeugen \n",
    "\n",
    "txt_geo.Niederlassung.replace({'NRW': 'Nordrhein-Westfalen',\n",
    "                            'Berlin-Charlottenburg': 'Berlin',\n",
    "                            'Berlin-Mitte': 'Berlin',\n",
    "                            'BERLIN': 'Berlin'}, inplace=True)"
   ]
  },
  {
   "cell_type": "code",
   "execution_count": 44,
   "id": "baac4135",
   "metadata": {},
   "outputs": [
    {
     "name": "stdout",
     "output_type": "stream",
     "text": [
      "Einzigartige Einträge: 11\n"
     ]
    }
   ],
   "source": [
    "# Testen, ob die Korrekturen durchgeführt wurden\n",
    "# Zuvor gab es 14 einzigartige Bundesländer, jetzt noch 11. Das ist korrekt. \n",
    "print(\"Einzigartige Einträge: \" + str(txt_geo.Niederlassung.nunique()))"
   ]
  },
  {
   "cell_type": "markdown",
   "id": "47099f28",
   "metadata": {},
   "source": [
    "# Daten in einen Dataframe zusammenfügen"
   ]
  },
  {
   "cell_type": "code",
   "execution_count": 45,
   "id": "a692a3ee",
   "metadata": {},
   "outputs": [],
   "source": [
    "# Merge der Datensätze Kunden und Besucher\n",
    "df1 = pd.merge(df_kunden, df_besucher, on=['KundeNr', 'Alter', 'Einkommen', 'Geschlecht', 'Zeit'], how='outer') #Methode outer, da ungleich lang und alle Daten behalten werden sollen\n",
    "# Für df_final ebenfalls die Standortdatei txt_geo hinzufügen\n",
    "df_final = pd.merge(df1, txt_geo, on='KundeNr', how='inner') # Methode inner, da nur die Zeilen, wo KundenNr übereinstimmt behalten werden sollen "
   ]
  },
  {
   "cell_type": "code",
   "execution_count": 46,
   "id": "5b6f35c5",
   "metadata": {},
   "outputs": [
    {
     "data": {
      "text/html": [
       "<div>\n",
       "<style scoped>\n",
       "    .dataframe tbody tr th:only-of-type {\n",
       "        vertical-align: middle;\n",
       "    }\n",
       "\n",
       "    .dataframe tbody tr th {\n",
       "        vertical-align: top;\n",
       "    }\n",
       "\n",
       "    .dataframe thead th {\n",
       "        text-align: right;\n",
       "    }\n",
       "</style>\n",
       "<table border=\"1\" class=\"dataframe\">\n",
       "  <thead>\n",
       "    <tr style=\"text-align: right;\">\n",
       "      <th></th>\n",
       "      <th>Alter</th>\n",
       "      <th>Einkommen</th>\n",
       "      <th>Preis</th>\n",
       "      <th>Geschlecht</th>\n",
       "      <th>Zeit</th>\n",
       "      <th>KundeNr</th>\n",
       "    </tr>\n",
       "  </thead>\n",
       "  <tbody>\n",
       "    <tr>\n",
       "      <th>0</th>\n",
       "      <td>64</td>\n",
       "      <td>66894.0</td>\n",
       "      <td>88160.31</td>\n",
       "      <td>1.0</td>\n",
       "      <td>43.0</td>\n",
       "      <td>K0310</td>\n",
       "    </tr>\n",
       "    <tr>\n",
       "      <th>1</th>\n",
       "      <td>54</td>\n",
       "      <td>77644.0</td>\n",
       "      <td>103145.70</td>\n",
       "      <td>1.0</td>\n",
       "      <td>40.0</td>\n",
       "      <td>K1042</td>\n",
       "    </tr>\n",
       "    <tr>\n",
       "      <th>2</th>\n",
       "      <td>55</td>\n",
       "      <td>44341.0</td>\n",
       "      <td>80565.16</td>\n",
       "      <td>0.0</td>\n",
       "      <td>37.0</td>\n",
       "      <td>K0382</td>\n",
       "    </tr>\n",
       "    <tr>\n",
       "      <th>3</th>\n",
       "      <td>49</td>\n",
       "      <td>67271.0</td>\n",
       "      <td>83949.89</td>\n",
       "      <td>0.0</td>\n",
       "      <td>42.0</td>\n",
       "      <td>K0498</td>\n",
       "    </tr>\n",
       "    <tr>\n",
       "      <th>4</th>\n",
       "      <td>46</td>\n",
       "      <td>49832.0</td>\n",
       "      <td>93781.58</td>\n",
       "      <td>0.0</td>\n",
       "      <td>41.0</td>\n",
       "      <td>K0552</td>\n",
       "    </tr>\n",
       "  </tbody>\n",
       "</table>\n",
       "</div>"
      ],
      "text/plain": [
       "   Alter  Einkommen      Preis  Geschlecht  Zeit KundeNr\n",
       "0     64    66894.0   88160.31         1.0  43.0   K0310\n",
       "1     54    77644.0  103145.70         1.0  40.0   K1042\n",
       "2     55    44341.0   80565.16         0.0  37.0   K0382\n",
       "3     49    67271.0   83949.89         0.0  42.0   K0498\n",
       "4     46    49832.0   93781.58         0.0  41.0   K0552"
      ]
     },
     "execution_count": 46,
     "metadata": {},
     "output_type": "execute_result"
    }
   ],
   "source": [
    "df1.head()"
   ]
  },
  {
   "cell_type": "code",
   "execution_count": 47,
   "id": "1168aae6",
   "metadata": {},
   "outputs": [
    {
     "data": {
      "text/html": [
       "<div>\n",
       "<style scoped>\n",
       "    .dataframe tbody tr th:only-of-type {\n",
       "        vertical-align: middle;\n",
       "    }\n",
       "\n",
       "    .dataframe tbody tr th {\n",
       "        vertical-align: top;\n",
       "    }\n",
       "\n",
       "    .dataframe thead th {\n",
       "        text-align: right;\n",
       "    }\n",
       "</style>\n",
       "<table border=\"1\" class=\"dataframe\">\n",
       "  <thead>\n",
       "    <tr style=\"text-align: right;\">\n",
       "      <th></th>\n",
       "      <th>Alter</th>\n",
       "      <th>Einkommen</th>\n",
       "      <th>Geschlecht</th>\n",
       "      <th>Zeit</th>\n",
       "      <th>KundeNr</th>\n",
       "    </tr>\n",
       "  </thead>\n",
       "  <tbody>\n",
       "    <tr>\n",
       "      <th>2</th>\n",
       "      <td>64</td>\n",
       "      <td>73163.216927</td>\n",
       "      <td>0</td>\n",
       "      <td>32.0</td>\n",
       "      <td>K1945</td>\n",
       "    </tr>\n",
       "  </tbody>\n",
       "</table>\n",
       "</div>"
      ],
      "text/plain": [
       "   Alter     Einkommen  Geschlecht  Zeit KundeNr\n",
       "2     64  73163.216927           0  32.0   K1945"
      ]
     },
     "execution_count": 47,
     "metadata": {},
     "output_type": "execute_result"
    }
   ],
   "source": [
    "# Anhand beispielhafter KundenNr aus Besucher-Datensatz prüfen, ob die Daten richtig übertragen wurden\n",
    "df_besucher.query(\"KundeNr == 'K1945'\") # Da es sich um String handelt, wird die Kundennr in weitere Anführungszeichen genommen "
   ]
  },
  {
   "cell_type": "code",
   "execution_count": 48,
   "id": "2b0305e7",
   "metadata": {},
   "outputs": [
    {
     "data": {
      "text/html": [
       "<div>\n",
       "<style scoped>\n",
       "    .dataframe tbody tr th:only-of-type {\n",
       "        vertical-align: middle;\n",
       "    }\n",
       "\n",
       "    .dataframe tbody tr th {\n",
       "        vertical-align: top;\n",
       "    }\n",
       "\n",
       "    .dataframe thead th {\n",
       "        text-align: right;\n",
       "    }\n",
       "</style>\n",
       "<table border=\"1\" class=\"dataframe\">\n",
       "  <thead>\n",
       "    <tr style=\"text-align: right;\">\n",
       "      <th></th>\n",
       "      <th>Alter</th>\n",
       "      <th>Einkommen</th>\n",
       "      <th>Preis</th>\n",
       "      <th>Geschlecht</th>\n",
       "      <th>Zeit</th>\n",
       "      <th>KundeNr</th>\n",
       "    </tr>\n",
       "  </thead>\n",
       "  <tbody>\n",
       "    <tr>\n",
       "      <th>1106</th>\n",
       "      <td>64</td>\n",
       "      <td>73163.216927</td>\n",
       "      <td>NaN</td>\n",
       "      <td>0.0</td>\n",
       "      <td>32.0</td>\n",
       "      <td>K1945</td>\n",
       "    </tr>\n",
       "  </tbody>\n",
       "</table>\n",
       "</div>"
      ],
      "text/plain": [
       "      Alter     Einkommen  Preis  Geschlecht  Zeit KundeNr\n",
       "1106     64  73163.216927    NaN         0.0  32.0   K1945"
      ]
     },
     "execution_count": 48,
     "metadata": {},
     "output_type": "execute_result"
    }
   ],
   "source": [
    "# Wurde übernommen \n",
    "df1.query(\"KundeNr == 'K1945'\") "
   ]
  },
  {
   "cell_type": "code",
   "execution_count": 49,
   "id": "847b00f2",
   "metadata": {},
   "outputs": [
    {
     "data": {
      "text/html": [
       "<div>\n",
       "<style scoped>\n",
       "    .dataframe tbody tr th:only-of-type {\n",
       "        vertical-align: middle;\n",
       "    }\n",
       "\n",
       "    .dataframe tbody tr th {\n",
       "        vertical-align: top;\n",
       "    }\n",
       "\n",
       "    .dataframe thead th {\n",
       "        text-align: right;\n",
       "    }\n",
       "</style>\n",
       "<table border=\"1\" class=\"dataframe\">\n",
       "  <thead>\n",
       "    <tr style=\"text-align: right;\">\n",
       "      <th></th>\n",
       "      <th>Alter</th>\n",
       "      <th>Einkommen</th>\n",
       "      <th>Preis</th>\n",
       "      <th>Geschlecht</th>\n",
       "      <th>Zeit</th>\n",
       "      <th>KundeNr</th>\n",
       "      <th>Niederlassung</th>\n",
       "    </tr>\n",
       "  </thead>\n",
       "  <tbody>\n",
       "    <tr>\n",
       "      <th>0</th>\n",
       "      <td>64</td>\n",
       "      <td>66894.0</td>\n",
       "      <td>88160.31</td>\n",
       "      <td>1.0</td>\n",
       "      <td>43.0</td>\n",
       "      <td>K0310</td>\n",
       "      <td>Bayern</td>\n",
       "    </tr>\n",
       "    <tr>\n",
       "      <th>1</th>\n",
       "      <td>54</td>\n",
       "      <td>77644.0</td>\n",
       "      <td>103145.70</td>\n",
       "      <td>1.0</td>\n",
       "      <td>40.0</td>\n",
       "      <td>K1042</td>\n",
       "      <td>Berlin</td>\n",
       "    </tr>\n",
       "    <tr>\n",
       "      <th>2</th>\n",
       "      <td>55</td>\n",
       "      <td>44341.0</td>\n",
       "      <td>80565.16</td>\n",
       "      <td>0.0</td>\n",
       "      <td>37.0</td>\n",
       "      <td>K0382</td>\n",
       "      <td>Baden-Württemberg</td>\n",
       "    </tr>\n",
       "    <tr>\n",
       "      <th>3</th>\n",
       "      <td>49</td>\n",
       "      <td>67271.0</td>\n",
       "      <td>83949.89</td>\n",
       "      <td>0.0</td>\n",
       "      <td>42.0</td>\n",
       "      <td>K0498</td>\n",
       "      <td>Bayern</td>\n",
       "    </tr>\n",
       "    <tr>\n",
       "      <th>4</th>\n",
       "      <td>46</td>\n",
       "      <td>49832.0</td>\n",
       "      <td>93781.58</td>\n",
       "      <td>0.0</td>\n",
       "      <td>41.0</td>\n",
       "      <td>K0552</td>\n",
       "      <td>Hessen</td>\n",
       "    </tr>\n",
       "  </tbody>\n",
       "</table>\n",
       "</div>"
      ],
      "text/plain": [
       "   Alter  Einkommen      Preis  Geschlecht  Zeit KundeNr      Niederlassung\n",
       "0     64    66894.0   88160.31         1.0  43.0   K0310             Bayern\n",
       "1     54    77644.0  103145.70         1.0  40.0   K1042             Berlin\n",
       "2     55    44341.0   80565.16         0.0  37.0   K0382  Baden-Württemberg\n",
       "3     49    67271.0   83949.89         0.0  42.0   K0498             Bayern\n",
       "4     46    49832.0   93781.58         0.0  41.0   K0552             Hessen"
      ]
     },
     "execution_count": 49,
     "metadata": {},
     "output_type": "execute_result"
    }
   ],
   "source": [
    "# Übersicht finaler Dataframe\n",
    "df_final.head()"
   ]
  },
  {
   "cell_type": "code",
   "execution_count": 50,
   "id": "00a51b44",
   "metadata": {},
   "outputs": [
    {
     "data": {
      "text/plain": [
       "Alter              int64\n",
       "Einkommen        float64\n",
       "Preis            float64\n",
       "Geschlecht       float64\n",
       "Zeit             float64\n",
       "KundeNr           object\n",
       "Niederlassung     object\n",
       "dtype: object"
      ]
     },
     "execution_count": 50,
     "metadata": {},
     "output_type": "execute_result"
    }
   ],
   "source": [
    "# Überprüfen ob die richtigen Datenformate vorliegen\n",
    "# Nur die Spalten KundeNr und Niederlassung sind strings, was korrekt ist\n",
    "df_final.dtypes"
   ]
  },
  {
   "cell_type": "code",
   "execution_count": 51,
   "id": "19f3c288",
   "metadata": {},
   "outputs": [
    {
     "data": {
      "text/plain": [
       "Alter            0.000000\n",
       "Einkommen        0.000000\n",
       "Preis            0.446617\n",
       "Geschlecht       0.000000\n",
       "Zeit             0.000000\n",
       "KundeNr          0.000000\n",
       "Niederlassung    0.000000\n",
       "dtype: float64"
      ]
     },
     "execution_count": 51,
     "metadata": {},
     "output_type": "execute_result"
    }
   ],
   "source": [
    "# Nach NaNs gucken - Wie erwartet fehlen nur in Preisspalte einige Einträge (aus Besucherdatei)\n",
    "df_final.isna().mean()"
   ]
  },
  {
   "cell_type": "code",
   "execution_count": null,
   "id": "7d02e628",
   "metadata": {},
   "outputs": [],
   "source": []
  },
  {
   "cell_type": "markdown",
   "id": "05735bc3",
   "metadata": {},
   "source": [
    "## N20: Zwei Vorschläge für zusätzliche Datenerhebungen \n",
    "#### vllt. auch 3 ;)"
   ]
  },
  {
   "cell_type": "markdown",
   "id": "a303a564",
   "metadata": {},
   "source": [
    "1. Beruf der Kunden\n",
    "2. Lief zu dem Zeitpunkt des Verkaufs eine Rabattaktion? (Wenn ja Prozentsatz angeben)\n",
    "3. Investitionen in Vermarktung "
   ]
  },
  {
   "cell_type": "code",
   "execution_count": null,
   "id": "68ae1014",
   "metadata": {},
   "outputs": [],
   "source": []
  }
 ],
 "metadata": {
  "kernelspec": {
   "display_name": "Python 3 (ipykernel)",
   "language": "python",
   "name": "python3"
  },
  "language_info": {
   "codemirror_mode": {
    "name": "ipython",
    "version": 3
   },
   "file_extension": ".py",
   "mimetype": "text/x-python",
   "name": "python",
   "nbconvert_exporter": "python",
   "pygments_lexer": "ipython3",
   "version": "3.8.5"
  }
 },
 "nbformat": 4,
 "nbformat_minor": 5
}
