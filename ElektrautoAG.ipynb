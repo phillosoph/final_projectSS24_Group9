{
 "cells": [
  {
   "cell_type": "code",
   "execution_count": 1,
   "id": "0980bcfd",
   "metadata": {},
   "outputs": [],
   "source": [
    "import pandas as pd\n",
    "import numpy as np\n",
    "import matplotlib.pyplot as plt"
   ]
  },
  {
   "cell_type": "markdown",
   "id": "dba8ecd8",
   "metadata": {},
   "source": [
    "<font size = \"8\">Elektrauto AG<font/>\n",
    "\n",
    "<i>HWR Berlin, Sommersemester 2024</i>\n",
    "\n",
    "<i>Phillip Raouf, Gereon Dregger, Lan Nhi Vu<i/>\n",
    "  \n"
   ]
  },
  {
   "cell_type": "code",
   "execution_count": null,
   "id": "12e85985",
   "metadata": {},
   "outputs": [],
   "source": [
    "# N1 Wie viele Autos wurden verkauft?"
   ]
  },
  {
   "cell_type": "code",
   "execution_count": null,
   "id": "4d7eb206",
   "metadata": {},
   "outputs": [],
   "source": [
    "# N2 Was ist der Höchst-, Mindest- und Durchschnittspreis der verkauften Autos?"
   ]
  },
  {
   "cell_type": "code",
   "execution_count": null,
   "id": "4a460d1d",
   "metadata": {},
   "outputs": [],
   "source": [
    "# N3 Wie hoch ist der Gesamtumsatz?"
   ]
  },
  {
   "cell_type": "code",
   "execution_count": null,
   "id": "c3a34cac",
   "metadata": {},
   "outputs": [],
   "source": [
    "# N4 Wie viele Autos wurden pro Bundesland verkauft?"
   ]
  },
  {
   "cell_type": "code",
   "execution_count": null,
   "id": "b43505f2",
   "metadata": {},
   "outputs": [],
   "source": [
    "# N5 Wie hoch war der durchschnittliche Umsatz pro Bundesland?"
   ]
  },
  {
   "cell_type": "code",
   "execution_count": null,
   "id": "d4bbe6e6",
   "metadata": {},
   "outputs": [],
   "source": [
    "# N7 Haben mehr Frauen oder mehr Männer unsere Autos gekauft?"
   ]
  },
  {
   "cell_type": "code",
   "execution_count": null,
   "id": "32878fb7",
   "metadata": {},
   "outputs": [],
   "source": [
    "# N8 Durchschnittsalter Kunden/Besucher"
   ]
  },
  {
   "cell_type": "code",
   "execution_count": null,
   "id": "c20619bf",
   "metadata": {},
   "outputs": [],
   "source": [
    "# N16 Welche Variable beeinflusst Preis am meisten?"
   ]
  },
  {
   "cell_type": "code",
   "execution_count": null,
   "id": "fe49b732",
   "metadata": {},
   "outputs": [],
   "source": [
    "# N20 Vorschläge für zusätzliche Datenerhebung"
   ]
  }
 ],
 "metadata": {
  "kernelspec": {
   "display_name": "Python 3 (ipykernel)",
   "language": "python",
   "name": "python3"
  },
  "language_info": {
   "codemirror_mode": {
    "name": "ipython",
    "version": 3
   },
   "file_extension": ".py",
   "mimetype": "text/x-python",
   "name": "python",
   "nbconvert_exporter": "python",
   "pygments_lexer": "ipython3",
   "version": "3.11.5"
  }
 },
 "nbformat": 4,
 "nbformat_minor": 5
}
