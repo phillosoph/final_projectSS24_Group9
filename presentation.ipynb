{
 "cells": [
  {
   "cell_type": "code",
   "execution_count": null,
   "id": "ace34985",
   "metadata": {
    "slideshow": {
     "slide_type": "skip"
    }
   },
   "outputs": [],
   "source": [
    "#jupyter nbconvert presentation.ipynb --to slides --no-input --stdout --TemplateExporter.exclude_input=True > index.html"
   ]
  },
  {
   "cell_type": "code",
<<<<<<< HEAD
   "execution_count": 1,
=======
   "execution_count": 19,
>>>>>>> 43ca2b0 (Füge presentation.ipynb hinzu)
   "id": "0980bcfd",
   "metadata": {
    "slideshow": {
     "slide_type": "skip"
    }
   },
   "outputs": [],
   "source": [
    "import pandas as pd\n",
    "import numpy as np\n",
<<<<<<< HEAD
    "import matplotlib.pyplot as plt"
=======
    "import matplotlib.pyplot as plt\n",
    "import statsmodels.api as sm"
>>>>>>> 43ca2b0 (Füge presentation.ipynb hinzu)
   ]
  },
  {
   "cell_type": "code",
<<<<<<< HEAD
   "execution_count": 2,
=======
   "execution_count": 13,
>>>>>>> 43ca2b0 (Füge presentation.ipynb hinzu)
   "id": "43dfed1f",
   "metadata": {
    "slideshow": {
     "slide_type": "skip"
    }
   },
   "outputs": [],
   "source": [
<<<<<<< HEAD
    "df_final = pd.read_csv(\"data/df_final.csv\", delimiter=\";\")\n",
=======
    "df_final = pd.read_csv(\"df_final.csv\", delimiter=\";\")\n",
>>>>>>> 43ca2b0 (Füge presentation.ipynb hinzu)
    "df_kunden = df_final[df_final[\"Kunde\"] == True]\n",
    "df_besucher = df_final[df_final[\"Besucher\"] == True]"
   ]
  },
  {
   "cell_type": "markdown",
   "id": "dba8ecd8",
   "metadata": {
    "slideshow": {
     "slide_type": "slide"
    }
   },
   "source": [
    "<font size = \"8\">Elektrauto AG<font/>\n",
    "\n",
    "<i>HWR Berlin, Sommersemester 2024</i>\n",
    "\n",
    "<i>Phillip Raouf, Gereon Dregger, Lan Nhi Vu<i/>\n",
    "  \n"
   ]
  },
  {
   "cell_type": "markdown",
   "id": "d71a21ef",
   "metadata": {
    "slideshow": {
     "slide_type": "slide"
    }
   },
   "source": [
    "# N1: Wie viele Autos wurden verkauft?"
   ]
  },
  {
   "cell_type": "code",
   "execution_count": 3,
   "id": "12e85985",
   "metadata": {
    "slideshow": {
     "slide_type": "fragment"
    }
   },
   "outputs": [
    {
     "name": "stdout",
     "output_type": "stream",
     "text": [
      "1104\n"
     ]
    }
   ],
   "source": [
    "print(df_final.Preis.count())"
   ]
  },
  {
   "cell_type": "markdown",
   "id": "b715e80b",
   "metadata": {
    "slideshow": {
     "slide_type": "slide"
    }
   },
   "source": [
    "## N2: Was ist der Höchst-, Mindest- und Durchschnittspreis der verkauften Autos?"
   ]
  },
  {
   "cell_type": "code",
   "execution_count": 4,
   "id": "4d7eb206",
   "metadata": {
    "slideshow": {
     "slide_type": "fragment"
    }
   },
   "outputs": [
    {
     "name": "stdout",
     "output_type": "stream",
     "text": [
      "Hoechstpreis: 149827.25\n",
      "Mindestpreis: 21471.65\n",
      "Durchschnittspreis: 88905.85917119564\n"
     ]
    }
   ],
   "source": [
    "# N2 Was ist der Höchst-, Mindest- und Durchschnittspreis der verkauften Autos?\n",
    "# Verwendung von max-, min- und mean-Funktion - angewendet auf die Preisspalte\n",
    "print(\"Hoechstpreis: \" + str(df_final.Preis.max()))\n",
    "print(\"Mindestpreis: \" + str(df_final.Preis.min()))\n",
    "print(\"Durchschnittspreis: \" + str(df_final.Preis.mean()))"
   ]
  },
  {
   "cell_type": "markdown",
   "id": "9d616a80",
   "metadata": {
    "slideshow": {
     "slide_type": "slide"
    }
   },
   "source": [
    "## N3: Wie hoch war der Gesamtumsatz"
   ]
  },
  {
   "cell_type": "code",
   "execution_count": 5,
   "id": "4a460d1d",
   "metadata": {
    "slideshow": {
     "slide_type": "fragment"
    }
   },
   "outputs": [
    {
     "name": "stdout",
     "output_type": "stream",
     "text": [
      "Gesamtumsatz: 98152068.52\n"
     ]
    }
   ],
   "source": [
    "# Die Preisspalte aufsummieren\n",
    "print(\"Gesamtumsatz: \" + str(df_final.Preis.sum().round(2)))"
   ]
  },
  {
   "cell_type": "markdown",
   "id": "5fd1241a",
   "metadata": {
    "slideshow": {
     "slide_type": "slide"
    }
   },
   "source": [
    "# N4: Wie viele Autos wurden pro Bundesland verkauft?"
   ]
  },
  {
   "cell_type": "code",
   "execution_count": 6,
   "id": "5001cc64",
   "metadata": {
    "slideshow": {
     "slide_type": "fragment"
    }
   },
   "outputs": [
    {
     "name": "stdout",
     "output_type": "stream",
     "text": [
      "Niederlassung\n",
      "Baden-Württemberg      205\n",
      "Bayern                 188\n",
      "Berlin                 126\n",
      "Brandenburg             37\n",
      "Düsseldorf               1\n",
      "Hamburg                 43\n",
      "Hessen                  96\n",
      "Niedersachsen           96\n",
      "Nordrhein-Westfalen    174\n",
      "Sachsen                 89\n",
      "Thüringen               49\n",
      "Name: Preis, dtype: int64\n"
     ]
    }
   ],
   "source": [
    "# Nach Niederlassungen gruppieren, danach zählen \n",
    "df_numbers = df_final.groupby(df_final.Niederlassung).count()\n",
    "df_numbers = df_numbers.Preis\n",
    "print(df_numbers)"
   ]
  },
  {
   "cell_type": "code",
   "execution_count": 7,
   "id": "908d7908",
   "metadata": {
    "slideshow": {
     "slide_type": "fragment"
    }
   },
   "outputs": [
    {
     "data": {
      "text/plain": [
       "Alter            162\n",
       "Einkommen        162\n",
       "Preis             89\n",
       "Geschlecht       162\n",
       "Zeit             162\n",
       "KundeNr          162\n",
       "Niederlassung    162\n",
       "Besucher         162\n",
       "Kunde            162\n",
       "dtype: int64"
      ]
     },
     "execution_count": 7,
     "metadata": {},
     "output_type": "execute_result"
    }
   ],
   "source": [
    "# Beispielhaft anhand von Sachsen die vorherige Auflistung verifizieren\n",
    "# Bei Preis existieren 89 Einträge wie auch oben, also korrekt!\n",
    "df_final.query(\"Niederlassung == 'Sachsen'\").count()"
   ]
  },
  {
   "cell_type": "markdown",
   "id": "bbd7c038",
   "metadata": {
    "slideshow": {
     "slide_type": "slide"
    }
   },
   "source": [
    "# N5: Wie hoch war der durchschnittliche Umsatz pro Bundesland?"
   ]
  },
  {
   "cell_type": "code",
   "execution_count": 8,
   "id": "bf9c738a",
   "metadata": {
    "slideshow": {
     "slide_type": "fragment"
    }
   },
   "outputs": [
    {
     "data": {
      "text/plain": [
       "Niederlassung\n",
       "Hamburg                 85549.50\n",
       "Hessen                  85864.93\n",
       "Brandenburg             86673.64\n",
       "Niedersachsen           87165.91\n",
       "Nordrhein-Westfalen     88451.76\n",
       "Bayern                  89344.31\n",
       "Sachsen                 89455.08\n",
       "Berlin                  89584.98\n",
       "Thüringen               90816.99\n",
       "Baden-Württemberg       90969.56\n",
       "Düsseldorf             120215.50\n",
       "Name: Preis, dtype: float64"
      ]
     },
     "execution_count": 8,
     "metadata": {},
     "output_type": "execute_result"
    }
   ],
   "source": [
    "# Nach Niederlassung gruppieren, dann den Durchschnitt des Preises nehmen, die Werte absteigend sortieren und runden\n",
    "df_final.groupby(df_final.Niederlassung) \\\n",
    "    .Preis.mean() \\\n",
    "    .sort_values() \\\n",
    "    .round(2)"
   ]
  },
  {
   "cell_type": "code",
   "execution_count": 9,
   "id": "7ff3ad6e",
   "metadata": {
    "slideshow": {
     "slide_type": "subslide"
    }
   },
   "outputs": [
    {
     "data": {
      "text/plain": [
       "Text(0, 0.5, 'Umsatz')"
      ]
     },
     "execution_count": 9,
     "metadata": {},
     "output_type": "execute_result"
    },
    {
     "data": {
      "image/png": "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",
      "text/plain": [
       "<Figure size 640x480 with 1 Axes>"
      ]
     },
     "metadata": {},
     "output_type": "display_data"
    }
   ],
   "source": [
    "# Barplot der Ergebnisse erstellen. \n",
    "\n",
    "avg_umsatz = df_final.groupby(df_final.Niederlassung) \\\n",
    "    .Preis.mean() \\\n",
    "    .sort_values() \\\n",
    "    .round(2).plot(kind=\"bar\", title=\"Durchschnittlicher Umsatz pro Bundesland\")\n",
    "plt.xlabel(\"Bundesländer\", color=\"r\")\n",
    "plt.ylabel(\"Umsatz\", color=\"r\")\n",
    "\n",
    "# Düsseldorf ist Spitzenreiter und sticht deutlich hervor\n",
    "# Das erregt den Verdacht, das der dortige Standort größer, über ein besonderes Angebot verfügt oder das beste Marketing betreibt\n"
   ]
  },
  {
   "cell_type": "markdown",
   "id": "8e1d267f",
   "metadata": {
    "slideshow": {
     "slide_type": "slide"
    }
   },
   "source": [
    "# N7 Haben mehr Frauen oder mehr Männer unsere Autos gekauft?"
   ]
  },
  {
   "cell_type": "code",
   "execution_count": 11,
   "id": "4e228bdf",
   "metadata": {
    "slideshow": {
     "slide_type": "fragment"
    }
   },
   "outputs": [
    {
     "name": "stdout",
     "output_type": "stream",
     "text": [
      "Prozentsatz Männer = 61.2%\n",
      "Prozentsatz Frauen = 38.8%\n"
     ]
    },
    {
     "data": {
      "image/png": "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",
      "text/plain": [
       "<Figure size 640x480 with 1 Axes>"
      ]
     },
     "metadata": {},
     "output_type": "display_data"
    }
   ],
   "source": [
    "# Gesamtanzahl an Geschlechts-Eintragungen bestimmen -> Spalte \"Geschlecht\" auswählen und zählen\n",
    "# Alternativ könnte man die .shape Funktion verwenden\n",
    "gesamt = df_final.Geschlecht.count()\n",
    "\n",
    "# Männer haben eine 1 erhalten in der Spalte. \n",
    "# Durch das aufsummieren erhalten wir die Gesamtanzahl an Männern, die wir dann ins Verhältnis zur Gesamtzahl der Eintragungen setzen können. \n",
    "männer = df_final.Geschlecht.sum()\n",
    "männer_prozent = (männer/gesamt*100).round(2)\n",
    "frauen_prozent = (100-männer_prozent.round(2))\n",
    "\n",
    "print(\"Prozentsatz Männer = \" + str(männer_prozent) + \"%\")\n",
    "print(\"Prozentsatz Frauen = \" + str(frauen_prozent) + \"%\")\n",
    "\n",
    "# Barplot erstellen um die Ergebnisse zu veranschaulichen\n",
    "prozent_h = [männer_prozent, frauen_prozent]\n",
    "labels = [\"Männer\", \"Frauen\"]\n",
    "plt.bar(labels, prozent_h)\n",
    "plt.xlabel(\"Geschlecht\", color=\"r\")\n",
    "plt.ylabel(\"Prozent\", color=\"r\")\n",
    "plt.title(\"Käufer nach Geschlecht (%)\", fontsize=17)\n",
    "plt.text(x=-0.05, y=30,s=(str(männer_prozent) + \"%\"), color=\"white\", fontsize=12)\n",
    "plt.text(x=0.95, y=30,s=(str(frauen_prozent) + \"%\"), color=\"white\", fontsize=12)\n",
    "plt.show()\n",
    "\n",
    "# Männer sind unsere Hauptkundengruppe, was eine wertvolle Information für das Marketing darstellt"
   ]
  },
  {
   "cell_type": "markdown",
   "id": "efd3837d",
   "metadata": {
    "slideshow": {
     "slide_type": "slide"
    }
   },
   "source": [
    "# N8 Durchschnittsalter Kunden/Besucher"
   ]
  },
  {
   "cell_type": "code",
   "execution_count": 13,
   "id": "f31400c5",
   "metadata": {
    "slideshow": {
     "slide_type": "fragment"
    }
   },
   "outputs": [
    {
     "name": "stdout",
     "output_type": "stream",
     "text": [
      "Durchschnittsalter Kunden: 50.375\n",
      "Durchschnittsalter Besucher: 49.88103254769921\n"
     ]
    }
   ],
   "source": [
    "# Auf die ursprünglichen Dataframes zugreifen, um jeweils den Durchschnitt zu extrahieren\n",
    "# Alternativ hätte man im final_df die Einträge auswählen müssen, wo > 0 für Kunden und NaN für Besucher\n",
    "print(\"Durchschnittsalter Kunden: \" + str(df_kunden.Alter.mean()))\n",
    "print(\"Durchschnittsalter Besucher: \" + str(df_besucher.Alter.mean()))"
   ]
  },
  {
   "cell_type": "markdown",
   "id": "3ddd6a8c",
   "metadata": {
    "slideshow": {
     "slide_type": "slide"
    }
   },
   "source": [
    "# N16 Welche Variable beeinflusst Preis am meisten?"
   ]
  },
  {
<<<<<<< HEAD
=======
   "cell_type": "code",
   "execution_count": 15,
   "id": "c4028a15-1261-4222-9a6e-50f54b8e0f68",
   "metadata": {},
   "outputs": [],
   "source": [
    "# Einen gefilterten Dataframe erstellen, der nur die Kundendaten enthält \n",
    "df_clean = df_final[df_final.index <= 1103] # Alles über dem Index 1103 sind Besucherdaten"
   ]
  },
  {
   "cell_type": "code",
   "execution_count": 21,
   "id": "2ccc24c0-2cae-428b-8440-9ab986678bb6",
   "metadata": {},
   "outputs": [
    {
     "name": "stdout",
     "output_type": "stream",
     "text": [
      "                            OLS Regression Results                            \n",
      "==============================================================================\n",
      "Dep. Variable:                  Preis   R-squared:                       0.811\n",
      "Model:                            OLS   Adj. R-squared:                  0.811\n",
      "Method:                 Least Squares   F-statistic:                     1576.\n",
      "Date:                Thu, 27 Jun 2024   Prob (F-statistic):               0.00\n",
      "Time:                        21:35:21   Log-Likelihood:                -645.62\n",
      "No. Observations:                1104   AIC:                             1299.\n",
      "Df Residuals:                    1100   BIC:                             1319.\n",
      "Df Model:                           3                                         \n",
      "Covariance Type:            nonrobust                                         \n",
      "==============================================================================\n",
      "                 coef    std err          t      P>|t|      [0.025      0.975]\n",
      "------------------------------------------------------------------------------\n",
      "const      -1.145e-16      0.013  -8.74e-15      1.000      -0.026       0.026\n",
      "Geschlecht     0.0428      0.013      3.262      0.001       0.017       0.068\n",
      "Alter          0.2689      0.020     13.523      0.000       0.230       0.308\n",
      "Einkommen      0.6787      0.020     34.118      0.000       0.640       0.718\n",
      "==============================================================================\n",
      "Omnibus:                      119.637   Durbin-Watson:                   2.083\n",
      "Prob(Omnibus):                  0.000   Jarque-Bera (JB):              694.440\n",
      "Skew:                           0.298   Prob(JB):                    1.60e-151\n",
      "Kurtosis:                       6.840   Cond. No.                         2.66\n",
      "==============================================================================\n",
      "\n",
      "Notes:\n",
      "[1] Standard Errors assume that the covariance matrix of the errors is correctly specified.\n"
     ]
    }
   ],
   "source": [
    "# Zielvariable und Prädiktoren definieren\n",
    "y = df_clean[\"Preis\"]\n",
    "X = df_clean[[\"Geschlecht\", \"Alter\", \"Einkommen\"]]\n",
    "\n",
    "# Daten standardisieren (z-Score-Werte berechnen) um Vergleichbarkeit zu schaffen\n",
    "y_standardized = (y - y.mean()) / y.std()\n",
    "X_standardized = (X - X.mean()) / X.std()\n",
    "\n",
    "# Konstante hinzufügen\n",
    "X_standardized = sm.add_constant(X_standardized)\n",
    "\n",
    "# Modell erstellen und anpassen\n",
    "model_standardized = sm.OLS(y_standardized, X_standardized).fit()\n",
    "\n",
    "# Zusammenfassung des Modells \n",
    "print(model_standardized.summary())"
   ]
  },
  {
>>>>>>> 43ca2b0 (Füge presentation.ipynb hinzu)
   "cell_type": "markdown",
   "id": "13f3383b",
   "metadata": {
    "slideshow": {
     "slide_type": "slide"
    }
   },
   "source": [
    "# N20 Vorschläge für zusätzliche Datenerhebung"
   ]
<<<<<<< HEAD
=======
  },
  {
   "cell_type": "markdown",
   "id": "bf058d83-154d-44cb-99e6-a8b541c3244b",
   "metadata": {},
   "source": [
    "1. Beruf der Kunden\n",
    "2. Lief zu dem Zeitpunkt des Verkaufs eine Rabattaktion\n",
    "3. Investitionen in das Marketing/die Vermarktung"
   ]
>>>>>>> 43ca2b0 (Füge presentation.ipynb hinzu)
  }
 ],
 "metadata": {
  "celltoolbar": "Slideshow",
  "kernelspec": {
   "display_name": "Python 3 (ipykernel)",
   "language": "python",
   "name": "python3"
  },
  "language_info": {
   "codemirror_mode": {
    "name": "ipython",
    "version": 3
   },
   "file_extension": ".py",
   "mimetype": "text/x-python",
   "name": "python",
   "nbconvert_exporter": "python",
   "pygments_lexer": "ipython3",
<<<<<<< HEAD
   "version": "3.11.5"
=======
   "version": "3.11.7"
>>>>>>> 43ca2b0 (Füge presentation.ipynb hinzu)
  }
 },
 "nbformat": 4,
 "nbformat_minor": 5
}
